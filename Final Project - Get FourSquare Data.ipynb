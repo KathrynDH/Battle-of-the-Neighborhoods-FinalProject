{
    "nbformat_minor": 1, 
    "cells": [
        {
            "source": "# Part 2 Get Foursquare Data\nIn this notebook I will use the location data for the top 100 metropilitan areas gathered in Part 1.  \nUsing calls to the Foursquare APIs Explore function, I will get up to 100 venues that are 'Top Picks' for each metro area.  \nFrom that information, I will create three new dataframes and json files.  \n\nThe first dataframe will contain the locations and the list of the 10 most frequently occuring venue categories for each metro area.  \nThe second dataframe will contain all venue categories and the ratio of the frequency that each venue category occured in the data retured from Foursquare.  \nThe third dataframe will contain all venue categories and the count of the frequency that each venue category occured in the data retured from Foursquare. \n\n<table style=\"width:100%\">\n    <tr>\n        <td style=\"text-align: left\">\n            <h2><a href=\"https://nbviewer.jupyter.org/github/KathrynDH/IBMCapstoneFinalProject/blob/master/Final%20Project%20Get%20Data.ipynb\">&larr; Part 1</a></h2>\n        </td>\n        <td style=\"text-align: right\">\n            <h2><a href=\"https://nbviewer.jupyter.org/github/KathrynDH/IBMCapstoneFinalProject/blob/master/Explore%20Location%20Data.ipynb\">Part 3 &rarr;</a></h2>\n        </td>\n    </tr>\n</table>\n    \n                ", 
            "cell_type": "markdown", 
            "metadata": {
                "collapsed": true
            }
        }, 
        {
            "execution_count": 1, 
            "cell_type": "code", 
            "metadata": {}, 
            "outputs": [], 
            "source": "#import libraries\nimport numpy as np\nimport pandas as pd\nimport requests \nimport io\nimport ibm_boto3\nfrom pandas.io.json import json_normalize\nfrom datetime import datetime"
        }, 
        {
            "execution_count": 2, 
            "cell_type": "code", 
            "metadata": {}, 
            "outputs": [], 
            "source": "# The code was removed by Watson Studio for sharing."
        }, 
        {
            "execution_count": 3, 
            "cell_type": "code", 
            "metadata": {}, 
            "outputs": [
                {
                    "execution_count": 3, 
                    "metadata": {}, 
                    "data": {
                        "text/html": "<div>\n<style scoped>\n    .dataframe tbody tr th:only-of-type {\n        vertical-align: middle;\n    }\n\n    .dataframe tbody tr th {\n        vertical-align: top;\n    }\n\n    .dataframe thead th {\n        text-align: right;\n    }\n</style>\n<table border=\"1\" class=\"dataframe\">\n  <thead>\n    <tr style=\"text-align: right;\">\n      <th></th>\n      <th>Metropolitan</th>\n      <th>Country</th>\n      <th>Continent</th>\n      <th>Latitude</th>\n      <th>Longitude</th>\n    </tr>\n  </thead>\n  <tbody>\n    <tr>\n      <th>0</th>\n      <td>Tokyo</td>\n      <td>Japan</td>\n      <td>Asia</td>\n      <td>35.682839</td>\n      <td>139.759455</td>\n    </tr>\n    <tr>\n      <th>1</th>\n      <td>Delhi</td>\n      <td>India</td>\n      <td>Asia</td>\n      <td>28.651718</td>\n      <td>77.221939</td>\n    </tr>\n    <tr>\n      <th>10</th>\n      <td>Mexico City</td>\n      <td>Mexico</td>\n      <td>North America</td>\n      <td>19.432601</td>\n      <td>-99.133342</td>\n    </tr>\n    <tr>\n      <th>11</th>\n      <td>S\u00e3o Paulo</td>\n      <td>Brazil</td>\n      <td>South America</td>\n      <td>-23.550651</td>\n      <td>-46.633382</td>\n    </tr>\n    <tr>\n      <th>12</th>\n      <td>Lagos</td>\n      <td>Nigeria</td>\n      <td>Africa</td>\n      <td>6.455057</td>\n      <td>3.394179</td>\n    </tr>\n  </tbody>\n</table>\n</div>", 
                        "text/plain": "   Metropolitan  Country      Continent   Latitude   Longitude\n0         Tokyo    Japan           Asia  35.682839  139.759455\n1         Delhi    India           Asia  28.651718   77.221939\n10  Mexico City   Mexico  North America  19.432601  -99.133342\n11    S\u00e3o Paulo   Brazil  South America -23.550651  -46.633382\n12        Lagos  Nigeria         Africa   6.455057    3.394179"
                    }, 
                    "output_type": "execute_result"
                }
            ], 
            "source": "#Import Metro dataframe\nobj = resource.Object(bucket_name=bucket, key='MetroData.json').get()\ndf = pd.read_json(io.BytesIO(obj['Body'].read()))\ndf.head()"
        }, 
        {
            "execution_count": 4, 
            "cell_type": "code", 
            "metadata": {
                "scrolled": true
            }, 
            "outputs": [
                {
                    "output_type": "stream", 
                    "name": "stdout", 
                    "text": "Credentails set\n"
                }
            ], 
            "source": "# The code was removed by Watson Studio for sharing."
        }, 
        {
            "execution_count": 5, 
            "cell_type": "code", 
            "metadata": {}, 
            "outputs": [], 
            "source": "#Function gets venue data for a location and returns dataframe with info from API request\ndef get_data(lat,lng):\n    LIMIT = 100\n    # create the API request URL\n    url = 'https://api.foursquare.com/v2/venues/explore?&client_id={}&client_secret={}&v={}&ll={},{}&limit={}&section=topPicks&time=any&day=any'.format(\n        CLIENT_ID, \n        CLIENT_SECRET, \n        VERSION, \n        lat, \n        lng, \n        LIMIT)\n            \n    # make the GET request\n    results = requests.get(url).json()\n    #results\n    #print(results)\n    try:\n        df_4s = json_normalize(results['response']['groups'][0]['items'])\n    except:\n        results = requests.get(url).json()\n        df_4s = json_normalize(results['response']['groups'][0]['items'])\n    return df_4s"
        }, 
        {
            "execution_count": 6, 
            "cell_type": "code", 
            "metadata": {}, 
            "outputs": [], 
            "source": "#function gets the category of the venues and returns a list of categories from the Foursquare data\ndef get_category_type(row):\n    try:\n        categories_list = row['categories']\n    except:\n        categories_list = row['venue.categories']\n    if len(categories_list) == 0:\n        return None\n    else:\n        return categories_list[0]['name']"
        }, 
        {
            "execution_count": 7, 
            "cell_type": "code", 
            "metadata": {}, 
            "outputs": [], 
            "source": "#function gets the venues for the location and returns a dataframe with list of venue categories from the Foursquare data\ndef get_venues(df_4s):\n    # filter columns\n    filtered_columns = ['venue.name', 'venue.categories'] + [col for col in df_4s.columns if col.startswith('venue.location.')] + ['venue.id']\n    dataframe_filtered = df_4s.loc[:, filtered_columns]\n    # filter the category for each row\n    dataframe_filtered['venue.categories'] = dataframe_filtered.apply(get_category_type, axis=1)\n    # clean columns\n    dataframe_filtered.columns = [col.split('.')[-1] for col in dataframe_filtered.columns]\n    return dataframe_filtered"
        }, 
        {
            "execution_count": 8, 
            "cell_type": "code", 
            "metadata": {}, 
            "outputs": [], 
            "source": "#function creates a dataframe that has venue categories ordered from most frequent to least frequent and returns the \n#10 most frequently occuring categories\ndef get_categories(dataframe_filtered):\n    df_New = pd.DataFrame({'Category':dataframe_filtered.categories, 'Name':dataframe_filtered.name})\n    df_New = df_New.groupby(['Category'],as_index = False).count()\n    df_New.sort_values(by=['Name'], ascending=False, inplace=True)\n    df_New.reset_index(drop = True, inplace=True)\n    return df_New.head(10)"
        }, 
        {
            "execution_count": 9, 
            "cell_type": "code", 
            "metadata": {}, 
            "outputs": [], 
            "source": "#Function takes a row index number creates a new row for the dataframe \ndef create_row(i):\n    new_row = []\n    #Enter location infomation into the row\n    for j in range(5):\n        new_row.append(df.iloc[i,j])\n    #Enter top venue categories into the row\n    for k in range(10):\n        try:\n            new_row.append(df_New.iloc[k,0])\n        except:\n            new_row.append(np.NAN)\n    return new_row"
        }, 
        {
            "execution_count": 10, 
            "cell_type": "code", 
            "metadata": {}, 
            "outputs": [], 
            "source": "#Create the venue dataframes\n#column names\ncolNames = ['Metropolitan','Country', 'Continent','Latitude', 'Longitude']\nfor i in range(10):\n    colNames.append('Category ' + str(i+1))\n\n#Create the empty dataframes \ndf_cat = pd.DataFrame(columns= colNames)\ndf_onehot = pd.DataFrame(columns= ['Metro','Category'])\n\nfor n in range(len(df.index)):\n#range(len(df.index)):\n    lat = df.iloc[n,3]\n    lng = df.iloc[n,4]\n    df_ven = get_venues(get_data(lat,lng))\n    \n    # Create dataframe used for one hot encoding\n    df_onehot = df_onehot.append(pd.DataFrame({'Metro':df.iloc[n,0],'Category':df_ven.categories}),ignore_index=True)\n    \n    #Create top categoies dataframe\n    df_New = get_categories(df_ven)\n    df_cat = df_cat.append(pd.DataFrame([create_row(n)], columns= colNames), ignore_index=True)\n\n#Create a dataframe with columns for all categoires and store the ratio of \n#returned venues in that category for each metro area\ndf_onehot2 = pd.concat([df_onehot,pd.get_dummies(df_onehot['Category'])],axis=1)\ndf_onehot_grouped = df_onehot2.groupby('Metro',as_index=False).mean()"
        }, 
        {
            "execution_count": 12, 
            "cell_type": "code", 
            "metadata": {}, 
            "outputs": [
                {
                    "output_type": "stream", 
                    "name": "stdout", 
                    "text": "(100, 393)\n"
                }, 
                {
                    "execution_count": 12, 
                    "metadata": {}, 
                    "data": {
                        "text/html": "<div>\n<style scoped>\n    .dataframe tbody tr th:only-of-type {\n        vertical-align: middle;\n    }\n\n    .dataframe tbody tr th {\n        vertical-align: top;\n    }\n\n    .dataframe thead th {\n        text-align: right;\n    }\n</style>\n<table border=\"1\" class=\"dataframe\">\n  <thead>\n    <tr style=\"text-align: right;\">\n      <th></th>\n      <th>Metro</th>\n      <th>ATM</th>\n      <th>Acai House</th>\n      <th>Accessories Store</th>\n      <th>Afghan Restaurant</th>\n      <th>African Restaurant</th>\n      <th>Alsatian Restaurant</th>\n      <th>American Restaurant</th>\n      <th>Amphitheater</th>\n      <th>Antique Shop</th>\n      <th>...</th>\n      <th>Whisky Bar</th>\n      <th>Wine Bar</th>\n      <th>Wine Shop</th>\n      <th>Wings Joint</th>\n      <th>Women's Store</th>\n      <th>Xinjiang Restaurant</th>\n      <th>Yoga Studio</th>\n      <th>Yoshoku Restaurant</th>\n      <th>Zhejiang Restaurant</th>\n      <th>Zoo Exhibit</th>\n    </tr>\n  </thead>\n  <tbody>\n    <tr>\n      <th>0</th>\n      <td>Ahmedabad</td>\n      <td>0.0</td>\n      <td>0.0</td>\n      <td>0.0</td>\n      <td>0.0</td>\n      <td>0.0</td>\n      <td>0.0</td>\n      <td>0.000000</td>\n      <td>0.0</td>\n      <td>0.0</td>\n      <td>...</td>\n      <td>0.0</td>\n      <td>0.0</td>\n      <td>0.000000</td>\n      <td>0.0</td>\n      <td>0.00</td>\n      <td>0.0</td>\n      <td>0.0</td>\n      <td>0.0</td>\n      <td>0.0</td>\n      <td>0.0</td>\n    </tr>\n    <tr>\n      <th>1</th>\n      <td>Alexandria</td>\n      <td>0.0</td>\n      <td>0.0</td>\n      <td>0.0</td>\n      <td>0.0</td>\n      <td>0.0</td>\n      <td>0.0</td>\n      <td>0.010309</td>\n      <td>0.0</td>\n      <td>0.0</td>\n      <td>...</td>\n      <td>0.0</td>\n      <td>0.0</td>\n      <td>0.000000</td>\n      <td>0.0</td>\n      <td>0.00</td>\n      <td>0.0</td>\n      <td>0.0</td>\n      <td>0.0</td>\n      <td>0.0</td>\n      <td>0.0</td>\n    </tr>\n    <tr>\n      <th>2</th>\n      <td>Ankara</td>\n      <td>0.0</td>\n      <td>0.0</td>\n      <td>0.0</td>\n      <td>0.0</td>\n      <td>0.0</td>\n      <td>0.0</td>\n      <td>0.000000</td>\n      <td>0.0</td>\n      <td>0.0</td>\n      <td>...</td>\n      <td>0.0</td>\n      <td>0.0</td>\n      <td>0.000000</td>\n      <td>0.0</td>\n      <td>0.02</td>\n      <td>0.0</td>\n      <td>0.0</td>\n      <td>0.0</td>\n      <td>0.0</td>\n      <td>0.0</td>\n    </tr>\n    <tr>\n      <th>3</th>\n      <td>Atlanta</td>\n      <td>0.0</td>\n      <td>0.0</td>\n      <td>0.0</td>\n      <td>0.0</td>\n      <td>0.0</td>\n      <td>0.0</td>\n      <td>0.019608</td>\n      <td>0.0</td>\n      <td>0.0</td>\n      <td>...</td>\n      <td>0.0</td>\n      <td>0.0</td>\n      <td>0.019608</td>\n      <td>0.0</td>\n      <td>0.00</td>\n      <td>0.0</td>\n      <td>0.0</td>\n      <td>0.0</td>\n      <td>0.0</td>\n      <td>0.0</td>\n    </tr>\n    <tr>\n      <th>4</th>\n      <td>Bandung</td>\n      <td>0.0</td>\n      <td>0.0</td>\n      <td>0.0</td>\n      <td>0.0</td>\n      <td>0.0</td>\n      <td>0.0</td>\n      <td>0.000000</td>\n      <td>0.0</td>\n      <td>0.0</td>\n      <td>...</td>\n      <td>0.0</td>\n      <td>0.0</td>\n      <td>0.000000</td>\n      <td>0.0</td>\n      <td>0.00</td>\n      <td>0.0</td>\n      <td>0.0</td>\n      <td>0.0</td>\n      <td>0.0</td>\n      <td>0.0</td>\n    </tr>\n  </tbody>\n</table>\n<p>5 rows \u00d7 393 columns</p>\n</div>", 
                        "text/plain": "        Metro  ATM  Acai House  Accessories Store  Afghan Restaurant  \\\n0   Ahmedabad  0.0         0.0                0.0                0.0   \n1  Alexandria  0.0         0.0                0.0                0.0   \n2      Ankara  0.0         0.0                0.0                0.0   \n3     Atlanta  0.0         0.0                0.0                0.0   \n4     Bandung  0.0         0.0                0.0                0.0   \n\n   African Restaurant  Alsatian Restaurant  American Restaurant  Amphitheater  \\\n0                 0.0                  0.0             0.000000           0.0   \n1                 0.0                  0.0             0.010309           0.0   \n2                 0.0                  0.0             0.000000           0.0   \n3                 0.0                  0.0             0.019608           0.0   \n4                 0.0                  0.0             0.000000           0.0   \n\n   Antique Shop  ...  Whisky Bar  Wine Bar  Wine Shop  Wings Joint  \\\n0           0.0  ...         0.0       0.0   0.000000          0.0   \n1           0.0  ...         0.0       0.0   0.000000          0.0   \n2           0.0  ...         0.0       0.0   0.000000          0.0   \n3           0.0  ...         0.0       0.0   0.019608          0.0   \n4           0.0  ...         0.0       0.0   0.000000          0.0   \n\n   Women's Store  Xinjiang Restaurant  Yoga Studio  Yoshoku Restaurant  \\\n0           0.00                  0.0          0.0                 0.0   \n1           0.00                  0.0          0.0                 0.0   \n2           0.02                  0.0          0.0                 0.0   \n3           0.00                  0.0          0.0                 0.0   \n4           0.00                  0.0          0.0                 0.0   \n\n   Zhejiang Restaurant  Zoo Exhibit  \n0                  0.0          0.0  \n1                  0.0          0.0  \n2                  0.0          0.0  \n3                  0.0          0.0  \n4                  0.0          0.0  \n\n[5 rows x 393 columns]"
                    }, 
                    "output_type": "execute_result"
                }
            ], 
            "source": "print(df_onehot_grouped.shape)\ndf_onehot_grouped.head()"
        }, 
        {
            "execution_count": 20, 
            "cell_type": "code", 
            "metadata": {}, 
            "outputs": [
                {
                    "execution_count": 20, 
                    "metadata": {}, 
                    "data": {
                        "text/html": "<div>\n<style scoped>\n    .dataframe tbody tr th:only-of-type {\n        vertical-align: middle;\n    }\n\n    .dataframe tbody tr th {\n        vertical-align: top;\n    }\n\n    .dataframe thead th {\n        text-align: right;\n    }\n</style>\n<table border=\"1\" class=\"dataframe\">\n  <thead>\n    <tr style=\"text-align: right;\">\n      <th></th>\n      <th>Metro</th>\n      <th>ATM</th>\n      <th>Acai House</th>\n      <th>Accessories Store</th>\n      <th>Afghan Restaurant</th>\n      <th>African Restaurant</th>\n      <th>Alsatian Restaurant</th>\n      <th>American Restaurant</th>\n      <th>Amphitheater</th>\n      <th>Antique Shop</th>\n      <th>...</th>\n      <th>Whisky Bar</th>\n      <th>Wine Bar</th>\n      <th>Wine Shop</th>\n      <th>Wings Joint</th>\n      <th>Women's Store</th>\n      <th>Xinjiang Restaurant</th>\n      <th>Yoga Studio</th>\n      <th>Yoshoku Restaurant</th>\n      <th>Zhejiang Restaurant</th>\n      <th>Zoo Exhibit</th>\n    </tr>\n  </thead>\n  <tbody>\n    <tr>\n      <th>0</th>\n      <td>Ahmedabad</td>\n      <td>0</td>\n      <td>0</td>\n      <td>0</td>\n      <td>0</td>\n      <td>0</td>\n      <td>0</td>\n      <td>0</td>\n      <td>0</td>\n      <td>0</td>\n      <td>...</td>\n      <td>0</td>\n      <td>0</td>\n      <td>0</td>\n      <td>0</td>\n      <td>0</td>\n      <td>0</td>\n      <td>0</td>\n      <td>0</td>\n      <td>0</td>\n      <td>0</td>\n    </tr>\n    <tr>\n      <th>1</th>\n      <td>Alexandria</td>\n      <td>0</td>\n      <td>0</td>\n      <td>0</td>\n      <td>0</td>\n      <td>0</td>\n      <td>0</td>\n      <td>1</td>\n      <td>0</td>\n      <td>0</td>\n      <td>...</td>\n      <td>0</td>\n      <td>0</td>\n      <td>0</td>\n      <td>0</td>\n      <td>0</td>\n      <td>0</td>\n      <td>0</td>\n      <td>0</td>\n      <td>0</td>\n      <td>0</td>\n    </tr>\n    <tr>\n      <th>2</th>\n      <td>Ankara</td>\n      <td>0</td>\n      <td>0</td>\n      <td>0</td>\n      <td>0</td>\n      <td>0</td>\n      <td>0</td>\n      <td>0</td>\n      <td>0</td>\n      <td>0</td>\n      <td>...</td>\n      <td>0</td>\n      <td>0</td>\n      <td>0</td>\n      <td>0</td>\n      <td>2</td>\n      <td>0</td>\n      <td>0</td>\n      <td>0</td>\n      <td>0</td>\n      <td>0</td>\n    </tr>\n    <tr>\n      <th>3</th>\n      <td>Atlanta</td>\n      <td>0</td>\n      <td>0</td>\n      <td>0</td>\n      <td>0</td>\n      <td>0</td>\n      <td>0</td>\n      <td>1</td>\n      <td>0</td>\n      <td>0</td>\n      <td>...</td>\n      <td>0</td>\n      <td>0</td>\n      <td>1</td>\n      <td>0</td>\n      <td>0</td>\n      <td>0</td>\n      <td>0</td>\n      <td>0</td>\n      <td>0</td>\n      <td>0</td>\n    </tr>\n    <tr>\n      <th>4</th>\n      <td>Bandung</td>\n      <td>0</td>\n      <td>0</td>\n      <td>0</td>\n      <td>0</td>\n      <td>0</td>\n      <td>0</td>\n      <td>0</td>\n      <td>0</td>\n      <td>0</td>\n      <td>...</td>\n      <td>0</td>\n      <td>0</td>\n      <td>0</td>\n      <td>0</td>\n      <td>0</td>\n      <td>0</td>\n      <td>0</td>\n      <td>0</td>\n      <td>0</td>\n      <td>0</td>\n    </tr>\n  </tbody>\n</table>\n<p>5 rows \u00d7 391 columns</p>\n</div>", 
                        "text/plain": "        Metro  ATM  Acai House  Accessories Store  Afghan Restaurant  \\\n0   Ahmedabad    0           0                  0                  0   \n1  Alexandria    0           0                  0                  0   \n2      Ankara    0           0                  0                  0   \n3     Atlanta    0           0                  0                  0   \n4     Bandung    0           0                  0                  0   \n\n   African Restaurant  Alsatian Restaurant  American Restaurant  Amphitheater  \\\n0                   0                    0                    0             0   \n1                   0                    0                    1             0   \n2                   0                    0                    0             0   \n3                   0                    0                    1             0   \n4                   0                    0                    0             0   \n\n   Antique Shop  ...  Whisky Bar  Wine Bar  Wine Shop  Wings Joint  \\\n0             0  ...           0         0          0            0   \n1             0  ...           0         0          0            0   \n2             0  ...           0         0          0            0   \n3             0  ...           0         0          1            0   \n4             0  ...           0         0          0            0   \n\n   Women's Store  Xinjiang Restaurant  Yoga Studio  Yoshoku Restaurant  \\\n0              0                    0            0                   0   \n1              0                    0            0                   0   \n2              2                    0            0                   0   \n3              0                    0            0                   0   \n4              0                    0            0                   0   \n\n   Zhejiang Restaurant  Zoo Exhibit  \n0                    0            0  \n1                    0            0  \n2                    0            0  \n3                    0            0  \n4                    0            0  \n\n[5 rows x 391 columns]"
                    }, 
                    "output_type": "execute_result"
                }
            ], 
            "source": "df_countCat = df_onehot2.groupby('Metro',as_index=False).sum()\ndf_countCat.head()"
        }, 
        {
            "execution_count": 13, 
            "cell_type": "code", 
            "metadata": {}, 
            "outputs": [
                {
                    "output_type": "stream", 
                    "name": "stdout", 
                    "text": "(100, 15)\n"
                }, 
                {
                    "execution_count": 13, 
                    "metadata": {}, 
                    "data": {
                        "text/html": "<div>\n<style scoped>\n    .dataframe tbody tr th:only-of-type {\n        vertical-align: middle;\n    }\n\n    .dataframe tbody tr th {\n        vertical-align: top;\n    }\n\n    .dataframe thead th {\n        text-align: right;\n    }\n</style>\n<table border=\"1\" class=\"dataframe\">\n  <thead>\n    <tr style=\"text-align: right;\">\n      <th></th>\n      <th>Metropolitan</th>\n      <th>Country</th>\n      <th>Continent</th>\n      <th>Latitude</th>\n      <th>Longitude</th>\n      <th>Category 1</th>\n      <th>Category 2</th>\n      <th>Category 3</th>\n      <th>Category 4</th>\n      <th>Category 5</th>\n      <th>Category 6</th>\n      <th>Category 7</th>\n      <th>Category 8</th>\n      <th>Category 9</th>\n      <th>Category 10</th>\n    </tr>\n  </thead>\n  <tbody>\n    <tr>\n      <th>0</th>\n      <td>Tokyo</td>\n      <td>Japan</td>\n      <td>Asia</td>\n      <td>35.682839</td>\n      <td>139.759455</td>\n      <td>Caf\u00e9</td>\n      <td>Japanese Restaurant</td>\n      <td>Italian Restaurant</td>\n      <td>Sushi Restaurant</td>\n      <td>Lounge</td>\n      <td>Garden</td>\n      <td>French Restaurant</td>\n      <td>Dessert Shop</td>\n      <td>Thai Restaurant</td>\n      <td>Steakhouse</td>\n    </tr>\n    <tr>\n      <th>1</th>\n      <td>Delhi</td>\n      <td>India</td>\n      <td>Asia</td>\n      <td>28.651718</td>\n      <td>77.221939</td>\n      <td>Indian Restaurant</td>\n      <td>Bar</td>\n      <td>Caf\u00e9</td>\n      <td>Flea Market</td>\n      <td>Lounge</td>\n      <td>Asian Restaurant</td>\n      <td>Ice Cream Shop</td>\n      <td>South Indian Restaurant</td>\n      <td>Portuguese Restaurant</td>\n      <td>Plaza</td>\n    </tr>\n    <tr>\n      <th>2</th>\n      <td>Mexico City</td>\n      <td>Mexico</td>\n      <td>North America</td>\n      <td>19.432601</td>\n      <td>-99.133342</td>\n      <td>Mexican Restaurant</td>\n      <td>Art Museum</td>\n      <td>Museum</td>\n      <td>Arts &amp; Crafts Store</td>\n      <td>Bar</td>\n      <td>Ice Cream Shop</td>\n      <td>Boutique</td>\n      <td>Bakery</td>\n      <td>Restaurant</td>\n      <td>Caf\u00e9</td>\n    </tr>\n    <tr>\n      <th>3</th>\n      <td>S\u00e3o Paulo</td>\n      <td>Brazil</td>\n      <td>South America</td>\n      <td>-23.550651</td>\n      <td>-46.633382</td>\n      <td>Brazilian Restaurant</td>\n      <td>Japanese Restaurant</td>\n      <td>Caf\u00e9</td>\n      <td>Bakery</td>\n      <td>Snack Place</td>\n      <td>Bookstore</td>\n      <td>Cosmetics Shop</td>\n      <td>Asian Restaurant</td>\n      <td>Art Gallery</td>\n      <td>Chinese Restaurant</td>\n    </tr>\n    <tr>\n      <th>4</th>\n      <td>Lagos</td>\n      <td>Nigeria</td>\n      <td>Africa</td>\n      <td>6.455057</td>\n      <td>3.394179</td>\n      <td>Lounge</td>\n      <td>African Restaurant</td>\n      <td>Bar</td>\n      <td>Caf\u00e9</td>\n      <td>Shopping Mall</td>\n      <td>Pizza Place</td>\n      <td>Hotel</td>\n      <td>Art Gallery</td>\n      <td>Italian Restaurant</td>\n      <td>Market</td>\n    </tr>\n  </tbody>\n</table>\n</div>", 
                        "text/plain": "  Metropolitan  Country      Continent   Latitude   Longitude  \\\n0        Tokyo    Japan           Asia  35.682839  139.759455   \n1        Delhi    India           Asia  28.651718   77.221939   \n2  Mexico City   Mexico  North America  19.432601  -99.133342   \n3    S\u00e3o Paulo   Brazil  South America -23.550651  -46.633382   \n4        Lagos  Nigeria         Africa   6.455057    3.394179   \n\n             Category 1           Category 2          Category 3  \\\n0                  Caf\u00e9  Japanese Restaurant  Italian Restaurant   \n1     Indian Restaurant                  Bar                Caf\u00e9   \n2    Mexican Restaurant           Art Museum              Museum   \n3  Brazilian Restaurant  Japanese Restaurant                Caf\u00e9   \n4                Lounge   African Restaurant                 Bar   \n\n            Category 4     Category 5        Category 6         Category 7  \\\n0     Sushi Restaurant         Lounge            Garden  French Restaurant   \n1          Flea Market         Lounge  Asian Restaurant     Ice Cream Shop   \n2  Arts & Crafts Store            Bar    Ice Cream Shop           Boutique   \n3               Bakery    Snack Place         Bookstore     Cosmetics Shop   \n4                 Caf\u00e9  Shopping Mall       Pizza Place              Hotel   \n\n                Category 8             Category 9         Category 10  \n0             Dessert Shop        Thai Restaurant          Steakhouse  \n1  South Indian Restaurant  Portuguese Restaurant               Plaza  \n2                   Bakery             Restaurant                Caf\u00e9  \n3         Asian Restaurant            Art Gallery  Chinese Restaurant  \n4              Art Gallery     Italian Restaurant              Market  "
                    }, 
                    "output_type": "execute_result"
                }
            ], 
            "source": "print(df_cat.shape)\ndf_cat.head()"
        }, 
        {
            "execution_count": 21, 
            "cell_type": "code", 
            "metadata": {}, 
            "outputs": [
                {
                    "output_type": "stream", 
                    "name": "stdout", 
                    "text": "Saved\n"
                }
            ], 
            "source": "#Save dataframes to json files\nresource.Bucket(name=bucket).put_object(Key='VenueData.json', Body=df_cat.to_json())\nresource.Bucket(name=bucket).put_object(Key='VenueOneHot.json', Body=df_onehot_grouped.to_json())\nresource.Bucket(name=bucket).put_object(Key='VenueCatCount.json', Body=df_countCat.to_json())\nprint('Saved')"
        }, 
        {
            "execution_count": 22, 
            "cell_type": "code", 
            "metadata": {}, 
            "outputs": [
                {
                    "output_type": "stream", 
                    "name": "stdout", 
                    "text": "Saved 20190916_1450\n"
                }
            ], 
            "source": "#make backups of the files\nt = datetime.now().strftime('%Y%m%d_%H%M')\nresource.Bucket(name=bucket).put_object(Key='VenueData' + t + '.json', Body=df_cat.to_json())\nresource.Bucket(name=bucket).put_object(Key='VenueOneHot' + t + '.json', Body=df_onehot_grouped.to_json())\nresource.Bucket(name=bucket).put_object(Key='VenueCatCount' + t + '.json', Body=df_countCat.to_json())\n\nprint('Saved ' + t)"
        }, 
        {
            "source": "<table style=\"width:100%\">\n    <tr>\n        <td style=\"text-align: left\">\n            <h2><a href=\"https://nbviewer.jupyter.org/github/KathrynDH/IBMCapstoneFinalProject/blob/master/Final%20Project%20Get%20Data.ipynb\">&larr; Part 1</a></h2>\n        </td>\n        <td style=\"text-align: right\">\n            <h2><a href=\"https://nbviewer.jupyter.org/github/KathrynDH/IBMCapstoneFinalProject/blob/master/Explore%20Location%20Data.ipynb\">Part 3 &rarr;</a></h2>\n        </td>\n    </tr>\n</table>\n    ", 
            "cell_type": "markdown", 
            "metadata": {}
        }, 
        {
            "execution_count": null, 
            "cell_type": "code", 
            "metadata": {}, 
            "outputs": [], 
            "source": ""
        }
    ], 
    "metadata": {
        "kernelspec": {
            "display_name": "Python 3.6", 
            "name": "python3", 
            "language": "python"
        }, 
        "language_info": {
            "mimetype": "text/x-python", 
            "nbconvert_exporter": "python", 
            "version": "3.6.8", 
            "name": "python", 
            "file_extension": ".py", 
            "pygments_lexer": "ipython3", 
            "codemirror_mode": {
                "version": 3, 
                "name": "ipython"
            }
        }
    }, 
    "nbformat": 4
}