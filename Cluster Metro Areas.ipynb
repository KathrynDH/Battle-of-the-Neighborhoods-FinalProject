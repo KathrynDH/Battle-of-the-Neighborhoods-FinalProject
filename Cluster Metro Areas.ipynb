{
    "nbformat_minor": 1, 
    "cells": [
        {
            "source": "# Part 4 - Cluster Metro Areas\nIn this notebook, I will use KMeans to cluster the location data.  \n\n<table style=\"width:100%\">\n    <tr>\n        <td style=\"text-align: left\">\n            <h2>\n                <a href=\"https://nbviewer.jupyter.org/github/KathrynDH/IBMCapstoneFinalProject/blob/master/Explore%20Location%20Data.ipynb\">&larr; Part 3</a>\n            </h2>\n        </td>\n        <td style=\"text-align: right\">\n            <h2>\n                <a href=\"https://nbviewer.jupyter.org/github/KathrynDH/IBMCapstoneFinalProject/blob/master/Explore%20the%20Clusters.ipynb\">Part 5 &rarr;</a>\n            </h2>\n        </td>\n    </tr>\n</table>", 
            "cell_type": "markdown", 
            "metadata": {
                "collapsed": true
            }
        }, 
        {
            "execution_count": 1, 
            "cell_type": "code", 
            "metadata": {}, 
            "outputs": [], 
            "source": "#import libraries\nimport requests\nimport numpy as np\nimport pandas as pd\nimport ibm_boto3\nimport io\nfrom sklearn.cluster import KMeans\nfrom datetime import datetime"
        }, 
        {
            "execution_count": 2, 
            "cell_type": "code", 
            "metadata": {}, 
            "outputs": [], 
            "source": "# import plotting libraries\n%matplotlib inline \nimport matplotlib as mpl\nimport matplotlib.pyplot as plt"
        }, 
        {
            "execution_count": 3, 
            "cell_type": "code", 
            "metadata": {}, 
            "outputs": [], 
            "source": "# The code was removed by Watson Studio for sharing."
        }, 
        {
            "execution_count": 4, 
            "cell_type": "code", 
            "metadata": {}, 
            "outputs": [
                {
                    "execution_count": 4, 
                    "metadata": {}, 
                    "data": {
                        "text/html": "<div>\n<style scoped>\n    .dataframe tbody tr th:only-of-type {\n        vertical-align: middle;\n    }\n\n    .dataframe tbody tr th {\n        vertical-align: top;\n    }\n\n    .dataframe thead th {\n        text-align: right;\n    }\n</style>\n<table border=\"1\" class=\"dataframe\">\n  <thead>\n    <tr style=\"text-align: right;\">\n      <th></th>\n      <th>Metropolitan</th>\n      <th>Country</th>\n      <th>Continent</th>\n      <th>Latitude</th>\n      <th>Longitude</th>\n      <th>Category 1</th>\n      <th>Category 2</th>\n      <th>Category 3</th>\n      <th>Category 4</th>\n      <th>Category 5</th>\n      <th>Category 6</th>\n      <th>Category 7</th>\n      <th>Category 8</th>\n      <th>Category 9</th>\n      <th>Category 10</th>\n    </tr>\n  </thead>\n  <tbody>\n    <tr>\n      <th>0</th>\n      <td>Tokyo</td>\n      <td>Japan</td>\n      <td>Asia</td>\n      <td>35.682839</td>\n      <td>139.759455</td>\n      <td>Caf\u00e9</td>\n      <td>Japanese Restaurant</td>\n      <td>Italian Restaurant</td>\n      <td>Sushi Restaurant</td>\n      <td>Lounge</td>\n      <td>Garden</td>\n      <td>French Restaurant</td>\n      <td>Dessert Shop</td>\n      <td>Thai Restaurant</td>\n      <td>Steakhouse</td>\n    </tr>\n    <tr>\n      <th>1</th>\n      <td>Delhi</td>\n      <td>India</td>\n      <td>Asia</td>\n      <td>28.651718</td>\n      <td>77.221939</td>\n      <td>Indian Restaurant</td>\n      <td>Bar</td>\n      <td>Caf\u00e9</td>\n      <td>Flea Market</td>\n      <td>Lounge</td>\n      <td>Asian Restaurant</td>\n      <td>Ice Cream Shop</td>\n      <td>South Indian Restaurant</td>\n      <td>Portuguese Restaurant</td>\n      <td>Plaza</td>\n    </tr>\n    <tr>\n      <th>2</th>\n      <td>Mexico City</td>\n      <td>Mexico</td>\n      <td>North America</td>\n      <td>19.432601</td>\n      <td>-99.133342</td>\n      <td>Mexican Restaurant</td>\n      <td>Art Museum</td>\n      <td>Museum</td>\n      <td>Arts &amp; Crafts Store</td>\n      <td>Bar</td>\n      <td>Ice Cream Shop</td>\n      <td>Boutique</td>\n      <td>Bakery</td>\n      <td>Restaurant</td>\n      <td>Caf\u00e9</td>\n    </tr>\n    <tr>\n      <th>3</th>\n      <td>S\u00e3o Paulo</td>\n      <td>Brazil</td>\n      <td>South America</td>\n      <td>-23.550651</td>\n      <td>-46.633382</td>\n      <td>Brazilian Restaurant</td>\n      <td>Japanese Restaurant</td>\n      <td>Caf\u00e9</td>\n      <td>Bakery</td>\n      <td>Snack Place</td>\n      <td>Bookstore</td>\n      <td>Cosmetics Shop</td>\n      <td>Asian Restaurant</td>\n      <td>Art Gallery</td>\n      <td>Chinese Restaurant</td>\n    </tr>\n    <tr>\n      <th>4</th>\n      <td>Lagos</td>\n      <td>Nigeria</td>\n      <td>Africa</td>\n      <td>6.455057</td>\n      <td>3.394179</td>\n      <td>Lounge</td>\n      <td>African Restaurant</td>\n      <td>Bar</td>\n      <td>Caf\u00e9</td>\n      <td>Shopping Mall</td>\n      <td>Pizza Place</td>\n      <td>Hotel</td>\n      <td>Art Gallery</td>\n      <td>Italian Restaurant</td>\n      <td>Market</td>\n    </tr>\n  </tbody>\n</table>\n</div>", 
                        "text/plain": "  Metropolitan  Country      Continent   Latitude   Longitude  \\\n0        Tokyo    Japan           Asia  35.682839  139.759455   \n1        Delhi    India           Asia  28.651718   77.221939   \n2  Mexico City   Mexico  North America  19.432601  -99.133342   \n3    S\u00e3o Paulo   Brazil  South America -23.550651  -46.633382   \n4        Lagos  Nigeria         Africa   6.455057    3.394179   \n\n             Category 1           Category 2          Category 3  \\\n0                  Caf\u00e9  Japanese Restaurant  Italian Restaurant   \n1     Indian Restaurant                  Bar                Caf\u00e9   \n2    Mexican Restaurant           Art Museum              Museum   \n3  Brazilian Restaurant  Japanese Restaurant                Caf\u00e9   \n4                Lounge   African Restaurant                 Bar   \n\n            Category 4     Category 5        Category 6         Category 7  \\\n0     Sushi Restaurant         Lounge            Garden  French Restaurant   \n1          Flea Market         Lounge  Asian Restaurant     Ice Cream Shop   \n2  Arts & Crafts Store            Bar    Ice Cream Shop           Boutique   \n3               Bakery    Snack Place         Bookstore     Cosmetics Shop   \n4                 Caf\u00e9  Shopping Mall       Pizza Place              Hotel   \n\n                Category 8             Category 9         Category 10  \n0             Dessert Shop        Thai Restaurant          Steakhouse  \n1  South Indian Restaurant  Portuguese Restaurant               Plaza  \n2                   Bakery             Restaurant                Caf\u00e9  \n3         Asian Restaurant            Art Gallery  Chinese Restaurant  \n4              Art Gallery     Italian Restaurant              Market  "
                    }, 
                    "output_type": "execute_result"
                }
            ], 
            "source": "#Import the first venue dataframe\nobj = resource.Object(bucket_name=bucket, key='VenueData.json').get()\ndf = pd.read_json(io.BytesIO(obj['Body'].read()))\ndf.sort_index(inplace=True)\ndf.head()"
        }, 
        {
            "execution_count": 5, 
            "cell_type": "code", 
            "metadata": {
                "scrolled": true
            }, 
            "outputs": [
                {
                    "execution_count": 5, 
                    "metadata": {}, 
                    "data": {
                        "text/html": "<div>\n<style scoped>\n    .dataframe tbody tr th:only-of-type {\n        vertical-align: middle;\n    }\n\n    .dataframe tbody tr th {\n        vertical-align: top;\n    }\n\n    .dataframe thead th {\n        text-align: right;\n    }\n</style>\n<table border=\"1\" class=\"dataframe\">\n  <thead>\n    <tr style=\"text-align: right;\">\n      <th></th>\n      <th>Metro</th>\n      <th>ATM</th>\n      <th>Acai House</th>\n      <th>Accessories Store</th>\n      <th>Afghan Restaurant</th>\n      <th>African Restaurant</th>\n      <th>Alsatian Restaurant</th>\n      <th>American Restaurant</th>\n      <th>Amphitheater</th>\n      <th>Antique Shop</th>\n      <th>...</th>\n      <th>Whisky Bar</th>\n      <th>Wine Bar</th>\n      <th>Wine Shop</th>\n      <th>Wings Joint</th>\n      <th>Women's Store</th>\n      <th>Xinjiang Restaurant</th>\n      <th>Yoga Studio</th>\n      <th>Yoshoku Restaurant</th>\n      <th>Zhejiang Restaurant</th>\n      <th>Zoo Exhibit</th>\n    </tr>\n  </thead>\n  <tbody>\n    <tr>\n      <th>0</th>\n      <td>Ahmedabad</td>\n      <td>0.0</td>\n      <td>0.0</td>\n      <td>0.0</td>\n      <td>0.0</td>\n      <td>0.0</td>\n      <td>0.0</td>\n      <td>0.000000</td>\n      <td>0.0</td>\n      <td>0.0</td>\n      <td>...</td>\n      <td>0.0</td>\n      <td>0.0</td>\n      <td>0.00</td>\n      <td>0.0</td>\n      <td>0.0</td>\n      <td>0.0</td>\n      <td>0.00</td>\n      <td>0.0</td>\n      <td>0.0</td>\n      <td>0.0</td>\n    </tr>\n    <tr>\n      <th>1</th>\n      <td>Alexandria</td>\n      <td>0.0</td>\n      <td>0.0</td>\n      <td>0.0</td>\n      <td>0.0</td>\n      <td>0.0</td>\n      <td>0.0</td>\n      <td>0.010309</td>\n      <td>0.0</td>\n      <td>0.0</td>\n      <td>...</td>\n      <td>0.0</td>\n      <td>0.0</td>\n      <td>0.00</td>\n      <td>0.0</td>\n      <td>0.0</td>\n      <td>0.0</td>\n      <td>0.00</td>\n      <td>0.0</td>\n      <td>0.0</td>\n      <td>0.0</td>\n    </tr>\n    <tr>\n      <th>10</th>\n      <td>Berlin/Brandenburg</td>\n      <td>0.0</td>\n      <td>0.0</td>\n      <td>0.0</td>\n      <td>0.0</td>\n      <td>0.0</td>\n      <td>0.0</td>\n      <td>0.000000</td>\n      <td>0.0</td>\n      <td>0.0</td>\n      <td>...</td>\n      <td>0.0</td>\n      <td>0.0</td>\n      <td>0.00</td>\n      <td>0.0</td>\n      <td>0.0</td>\n      <td>0.0</td>\n      <td>0.00</td>\n      <td>0.0</td>\n      <td>0.0</td>\n      <td>0.0</td>\n    </tr>\n    <tr>\n      <th>11</th>\n      <td>Bogot\u00e1</td>\n      <td>0.0</td>\n      <td>0.0</td>\n      <td>0.0</td>\n      <td>0.0</td>\n      <td>0.0</td>\n      <td>0.0</td>\n      <td>0.000000</td>\n      <td>0.0</td>\n      <td>0.0</td>\n      <td>...</td>\n      <td>0.0</td>\n      <td>0.0</td>\n      <td>0.00</td>\n      <td>0.0</td>\n      <td>0.0</td>\n      <td>0.0</td>\n      <td>0.00</td>\n      <td>0.0</td>\n      <td>0.0</td>\n      <td>0.0</td>\n    </tr>\n    <tr>\n      <th>12</th>\n      <td>Boston</td>\n      <td>0.0</td>\n      <td>0.0</td>\n      <td>0.0</td>\n      <td>0.0</td>\n      <td>0.0</td>\n      <td>0.0</td>\n      <td>0.030000</td>\n      <td>0.0</td>\n      <td>0.0</td>\n      <td>...</td>\n      <td>0.0</td>\n      <td>0.0</td>\n      <td>0.01</td>\n      <td>0.0</td>\n      <td>0.0</td>\n      <td>0.0</td>\n      <td>0.02</td>\n      <td>0.0</td>\n      <td>0.0</td>\n      <td>0.0</td>\n    </tr>\n  </tbody>\n</table>\n<p>5 rows \u00d7 393 columns</p>\n</div>", 
                        "text/plain": "                 Metro  ATM  Acai House  Accessories Store  Afghan Restaurant  \\\n0            Ahmedabad  0.0         0.0                0.0                0.0   \n1           Alexandria  0.0         0.0                0.0                0.0   \n10  Berlin/Brandenburg  0.0         0.0                0.0                0.0   \n11              Bogot\u00e1  0.0         0.0                0.0                0.0   \n12              Boston  0.0         0.0                0.0                0.0   \n\n    African Restaurant  Alsatian Restaurant  American Restaurant  \\\n0                  0.0                  0.0             0.000000   \n1                  0.0                  0.0             0.010309   \n10                 0.0                  0.0             0.000000   \n11                 0.0                  0.0             0.000000   \n12                 0.0                  0.0             0.030000   \n\n    Amphitheater  Antique Shop  ...  Whisky Bar  Wine Bar  Wine Shop  \\\n0            0.0           0.0  ...         0.0       0.0       0.00   \n1            0.0           0.0  ...         0.0       0.0       0.00   \n10           0.0           0.0  ...         0.0       0.0       0.00   \n11           0.0           0.0  ...         0.0       0.0       0.00   \n12           0.0           0.0  ...         0.0       0.0       0.01   \n\n    Wings Joint  Women's Store  Xinjiang Restaurant  Yoga Studio  \\\n0           0.0            0.0                  0.0         0.00   \n1           0.0            0.0                  0.0         0.00   \n10          0.0            0.0                  0.0         0.00   \n11          0.0            0.0                  0.0         0.00   \n12          0.0            0.0                  0.0         0.02   \n\n    Yoshoku Restaurant  Zhejiang Restaurant  Zoo Exhibit  \n0                  0.0                  0.0          0.0  \n1                  0.0                  0.0          0.0  \n10                 0.0                  0.0          0.0  \n11                 0.0                  0.0          0.0  \n12                 0.0                  0.0          0.0  \n\n[5 rows x 393 columns]"
                    }, 
                    "output_type": "execute_result"
                }
            ], 
            "source": "#Import the venue dataframe used for clustering\nobj = resource.Object(bucket_name=bucket, key='VenueOneHot.json').get()\ndf_onehot = pd.read_json(io.BytesIO(obj['Body'].read()))\ndf_onehot.head()"
        }, 
        {
            "source": "### Find the cost for k values from 1 to max_k to determine the best k to use for KMeans clustering", 
            "cell_type": "markdown", 
            "metadata": {}
        }, 
        {
            "execution_count": 9, 
            "cell_type": "code", 
            "metadata": {
                "scrolled": true
            }, 
            "outputs": [
                {
                    "output_type": "stream", 
                    "name": "stdout", 
                    "text": "k: 1  cost: 5.69746203116217\nk: 2  cost: 5.110228949743916\nk: 3  cost: 4.816327487654971\nk: 4  cost: 4.573613800639876\nk: 5  cost: 4.099757277232833\nk: 6  cost: 4.134349737988096\nk: 7  cost: 3.6764099454192407\nk: 8  cost: 3.615772911136778\nk: 9  cost: 3.522340812223514\nk: 10  cost: 3.268764631085148\nk: 11  cost: 3.163931528398157\nk: 12  cost: 3.078618113835999\nk: 13  cost: 2.9530199151422596\nk: 14  cost: 2.8381317221461844\nk: 15  cost: 2.9052009807943002\n"
                }
            ], 
            "source": "# Find the best K for KMeans\nmax_k = 15\ncost_vals = []\nlabel_list = []\nfor k in range(1,max_k+1):\n    model = KMeans(n_clusters=k, init='random').fit(df_onehot.drop('Metro',axis=1))\n    cost_vals.append(model.inertia_)\n    label_list.append(model.labels_)\n    print('k:',k,' cost:', cost_vals[k-1])"
        }, 
        {
            "execution_count": 10, 
            "cell_type": "code", 
            "metadata": {}, 
            "outputs": [
                {
                    "execution_count": 10, 
                    "metadata": {}, 
                    "data": {
                        "text/plain": "<function matplotlib.pyplot.show(*args, **kw)>"
                    }, 
                    "output_type": "execute_result"
                }, 
                {
                    "output_type": "display_data", 
                    "data": {
                        "image/png": "[encoded data removed]", 
                        "text/plain": "<Figure size 432x288 with 1 Axes>"
                    }, 
                    "metadata": {
                        "needs_background": "light"
                    }
                }
            ], 
            "source": "#plot the cost values for k and find the 'elbow' point\nplt.plot(range(1,max_k+1),cost_vals,'b+-')\n\nplt.xlabel('k')\nplt.ylabel('Cost')\nplt.show"
        }, 
        {
            "source": "There does not appear to be a clear 'elbow' in the graph. We are looking for a k value where the rate of decreasing cost slows down significantly.  \nk=5 and k=7 look like good options. Let's look at those cluster sizes.", 
            "cell_type": "markdown", 
            "metadata": {}
        }, 
        {
            "execution_count": 11, 
            "cell_type": "code", 
            "metadata": {}, 
            "outputs": [
                {
                    "output_type": "stream", 
                    "name": "stdout", 
                    "text": "k= 5 \n    cat  size\n0    0    48\n2    2    22\n4    4    15\n1    1    14\n3    3     1\nk= 7 \n    cat  size\n3    3    68\n6    6    12\n5    5     8\n1    1     5\n2    2     3\n4    4     3\n0    0     1\n"
                }
            ], 
            "source": "l = len(df_onehot.index)\nfor i in [5,7]:\n    w = pd.DataFrame({'cat':label_list[i-1],'size':range(l)})\n    print('k=',i,'\\n',w.groupby('cat', as_index=False).count().sort_values('size', ascending=False))"
        }, 
        {
            "source": "After examining the results, k=5 seems to be a good choice for k.", 
            "cell_type": "markdown", 
            "metadata": {}
        }, 
        {
            "execution_count": 21, 
            "cell_type": "code", 
            "metadata": {
                "scrolled": true
            }, 
            "outputs": [
                {
                    "execution_count": 21, 
                    "metadata": {}, 
                    "data": {
                        "text/html": "<div>\n<style scoped>\n    .dataframe tbody tr th:only-of-type {\n        vertical-align: middle;\n    }\n\n    .dataframe tbody tr th {\n        vertical-align: top;\n    }\n\n    .dataframe thead th {\n        text-align: right;\n    }\n</style>\n<table border=\"1\" class=\"dataframe\">\n  <thead>\n    <tr style=\"text-align: right;\">\n      <th></th>\n      <th>Cluster Labels</th>\n      <th>Metro</th>\n      <th>ATM</th>\n      <th>Acai House</th>\n      <th>Accessories Store</th>\n      <th>Afghan Restaurant</th>\n      <th>African Restaurant</th>\n      <th>Alsatian Restaurant</th>\n      <th>American Restaurant</th>\n      <th>Amphitheater</th>\n      <th>...</th>\n      <th>Whisky Bar</th>\n      <th>Wine Bar</th>\n      <th>Wine Shop</th>\n      <th>Wings Joint</th>\n      <th>Women's Store</th>\n      <th>Xinjiang Restaurant</th>\n      <th>Yoga Studio</th>\n      <th>Yoshoku Restaurant</th>\n      <th>Zhejiang Restaurant</th>\n      <th>Zoo Exhibit</th>\n    </tr>\n  </thead>\n  <tbody>\n    <tr>\n      <th>0</th>\n      <td>1</td>\n      <td>Ahmedabad</td>\n      <td>0.0</td>\n      <td>0.0</td>\n      <td>0.0</td>\n      <td>0.0</td>\n      <td>0.0</td>\n      <td>0.0</td>\n      <td>0.000000</td>\n      <td>0.0</td>\n      <td>...</td>\n      <td>0.0</td>\n      <td>0.0</td>\n      <td>0.00</td>\n      <td>0.0</td>\n      <td>0.0</td>\n      <td>0.0</td>\n      <td>0.00</td>\n      <td>0.0</td>\n      <td>0.0</td>\n      <td>0.0</td>\n    </tr>\n    <tr>\n      <th>1</th>\n      <td>2</td>\n      <td>Alexandria</td>\n      <td>0.0</td>\n      <td>0.0</td>\n      <td>0.0</td>\n      <td>0.0</td>\n      <td>0.0</td>\n      <td>0.0</td>\n      <td>0.010309</td>\n      <td>0.0</td>\n      <td>...</td>\n      <td>0.0</td>\n      <td>0.0</td>\n      <td>0.00</td>\n      <td>0.0</td>\n      <td>0.0</td>\n      <td>0.0</td>\n      <td>0.00</td>\n      <td>0.0</td>\n      <td>0.0</td>\n      <td>0.0</td>\n    </tr>\n    <tr>\n      <th>10</th>\n      <td>0</td>\n      <td>Berlin/Brandenburg</td>\n      <td>0.0</td>\n      <td>0.0</td>\n      <td>0.0</td>\n      <td>0.0</td>\n      <td>0.0</td>\n      <td>0.0</td>\n      <td>0.000000</td>\n      <td>0.0</td>\n      <td>...</td>\n      <td>0.0</td>\n      <td>0.0</td>\n      <td>0.00</td>\n      <td>0.0</td>\n      <td>0.0</td>\n      <td>0.0</td>\n      <td>0.00</td>\n      <td>0.0</td>\n      <td>0.0</td>\n      <td>0.0</td>\n    </tr>\n    <tr>\n      <th>11</th>\n      <td>2</td>\n      <td>Bogot\u00e1</td>\n      <td>0.0</td>\n      <td>0.0</td>\n      <td>0.0</td>\n      <td>0.0</td>\n      <td>0.0</td>\n      <td>0.0</td>\n      <td>0.000000</td>\n      <td>0.0</td>\n      <td>...</td>\n      <td>0.0</td>\n      <td>0.0</td>\n      <td>0.00</td>\n      <td>0.0</td>\n      <td>0.0</td>\n      <td>0.0</td>\n      <td>0.00</td>\n      <td>0.0</td>\n      <td>0.0</td>\n      <td>0.0</td>\n    </tr>\n    <tr>\n      <th>12</th>\n      <td>0</td>\n      <td>Boston</td>\n      <td>0.0</td>\n      <td>0.0</td>\n      <td>0.0</td>\n      <td>0.0</td>\n      <td>0.0</td>\n      <td>0.0</td>\n      <td>0.030000</td>\n      <td>0.0</td>\n      <td>...</td>\n      <td>0.0</td>\n      <td>0.0</td>\n      <td>0.01</td>\n      <td>0.0</td>\n      <td>0.0</td>\n      <td>0.0</td>\n      <td>0.02</td>\n      <td>0.0</td>\n      <td>0.0</td>\n      <td>0.0</td>\n    </tr>\n  </tbody>\n</table>\n<p>5 rows \u00d7 394 columns</p>\n</div>", 
                        "text/plain": "    Cluster Labels               Metro  ATM  Acai House  Accessories Store  \\\n0                1           Ahmedabad  0.0         0.0                0.0   \n1                2          Alexandria  0.0         0.0                0.0   \n10               0  Berlin/Brandenburg  0.0         0.0                0.0   \n11               2              Bogot\u00e1  0.0         0.0                0.0   \n12               0              Boston  0.0         0.0                0.0   \n\n    Afghan Restaurant  African Restaurant  Alsatian Restaurant  \\\n0                 0.0                 0.0                  0.0   \n1                 0.0                 0.0                  0.0   \n10                0.0                 0.0                  0.0   \n11                0.0                 0.0                  0.0   \n12                0.0                 0.0                  0.0   \n\n    American Restaurant  Amphitheater  ...  Whisky Bar  Wine Bar  Wine Shop  \\\n0              0.000000           0.0  ...         0.0       0.0       0.00   \n1              0.010309           0.0  ...         0.0       0.0       0.00   \n10             0.000000           0.0  ...         0.0       0.0       0.00   \n11             0.000000           0.0  ...         0.0       0.0       0.00   \n12             0.030000           0.0  ...         0.0       0.0       0.01   \n\n    Wings Joint  Women's Store  Xinjiang Restaurant  Yoga Studio  \\\n0           0.0            0.0                  0.0         0.00   \n1           0.0            0.0                  0.0         0.00   \n10          0.0            0.0                  0.0         0.00   \n11          0.0            0.0                  0.0         0.00   \n12          0.0            0.0                  0.0         0.02   \n\n    Yoshoku Restaurant  Zhejiang Restaurant  Zoo Exhibit  \n0                  0.0                  0.0          0.0  \n1                  0.0                  0.0          0.0  \n10                 0.0                  0.0          0.0  \n11                 0.0                  0.0          0.0  \n12                 0.0                  0.0          0.0  \n\n[5 rows x 394 columns]"
                    }, 
                    "output_type": "execute_result"
                }
            ], 
            "source": "#Add cluster labels\nbest_k = 5\ndf_onehot.insert(0, 'Cluster Labels', label_list[best_k-1])\ndf_onehot.head()"
        }, 
        {
            "execution_count": 22, 
            "cell_type": "code", 
            "metadata": {
                "scrolled": false
            }, 
            "outputs": [
                {
                    "execution_count": 22, 
                    "metadata": {}, 
                    "data": {
                        "text/html": "<div>\n<style scoped>\n    .dataframe tbody tr th:only-of-type {\n        vertical-align: middle;\n    }\n\n    .dataframe tbody tr th {\n        vertical-align: top;\n    }\n\n    .dataframe thead th {\n        text-align: right;\n    }\n</style>\n<table border=\"1\" class=\"dataframe\">\n  <thead>\n    <tr style=\"text-align: right;\">\n      <th></th>\n      <th>Metropolitan</th>\n      <th>Country</th>\n      <th>Continent</th>\n      <th>Latitude</th>\n      <th>Longitude</th>\n      <th>Category 1</th>\n      <th>Category 2</th>\n      <th>Category 3</th>\n      <th>Category 4</th>\n      <th>Category 5</th>\n      <th>Category 6</th>\n      <th>Category 7</th>\n      <th>Category 8</th>\n      <th>Category 9</th>\n      <th>Category 10</th>\n      <th>Cluster Labels</th>\n    </tr>\n  </thead>\n  <tbody>\n    <tr>\n      <th>0</th>\n      <td>Tokyo</td>\n      <td>Japan</td>\n      <td>Asia</td>\n      <td>35.682839</td>\n      <td>139.759455</td>\n      <td>Caf\u00e9</td>\n      <td>Japanese Restaurant</td>\n      <td>Italian Restaurant</td>\n      <td>Sushi Restaurant</td>\n      <td>Lounge</td>\n      <td>Garden</td>\n      <td>French Restaurant</td>\n      <td>Dessert Shop</td>\n      <td>Thai Restaurant</td>\n      <td>Steakhouse</td>\n      <td>2</td>\n    </tr>\n    <tr>\n      <th>1</th>\n      <td>Delhi</td>\n      <td>India</td>\n      <td>Asia</td>\n      <td>28.651718</td>\n      <td>77.221939</td>\n      <td>Indian Restaurant</td>\n      <td>Bar</td>\n      <td>Caf\u00e9</td>\n      <td>Flea Market</td>\n      <td>Lounge</td>\n      <td>Asian Restaurant</td>\n      <td>Ice Cream Shop</td>\n      <td>South Indian Restaurant</td>\n      <td>Portuguese Restaurant</td>\n      <td>Plaza</td>\n      <td>1</td>\n    </tr>\n    <tr>\n      <th>2</th>\n      <td>Mexico City</td>\n      <td>Mexico</td>\n      <td>North America</td>\n      <td>19.432601</td>\n      <td>-99.133342</td>\n      <td>Mexican Restaurant</td>\n      <td>Art Museum</td>\n      <td>Museum</td>\n      <td>Arts &amp; Crafts Store</td>\n      <td>Bar</td>\n      <td>Ice Cream Shop</td>\n      <td>Boutique</td>\n      <td>Bakery</td>\n      <td>Restaurant</td>\n      <td>Caf\u00e9</td>\n      <td>0</td>\n    </tr>\n    <tr>\n      <th>3</th>\n      <td>S\u00e3o Paulo</td>\n      <td>Brazil</td>\n      <td>South America</td>\n      <td>-23.550651</td>\n      <td>-46.633382</td>\n      <td>Brazilian Restaurant</td>\n      <td>Japanese Restaurant</td>\n      <td>Caf\u00e9</td>\n      <td>Bakery</td>\n      <td>Snack Place</td>\n      <td>Bookstore</td>\n      <td>Cosmetics Shop</td>\n      <td>Asian Restaurant</td>\n      <td>Art Gallery</td>\n      <td>Chinese Restaurant</td>\n      <td>2</td>\n    </tr>\n    <tr>\n      <th>4</th>\n      <td>Lagos</td>\n      <td>Nigeria</td>\n      <td>Africa</td>\n      <td>6.455057</td>\n      <td>3.394179</td>\n      <td>Lounge</td>\n      <td>African Restaurant</td>\n      <td>Bar</td>\n      <td>Caf\u00e9</td>\n      <td>Shopping Mall</td>\n      <td>Pizza Place</td>\n      <td>Hotel</td>\n      <td>Art Gallery</td>\n      <td>Italian Restaurant</td>\n      <td>Market</td>\n      <td>0</td>\n    </tr>\n  </tbody>\n</table>\n</div>", 
                        "text/plain": "  Metropolitan  Country      Continent   Latitude   Longitude  \\\n0        Tokyo    Japan           Asia  35.682839  139.759455   \n1        Delhi    India           Asia  28.651718   77.221939   \n2  Mexico City   Mexico  North America  19.432601  -99.133342   \n3    S\u00e3o Paulo   Brazil  South America -23.550651  -46.633382   \n4        Lagos  Nigeria         Africa   6.455057    3.394179   \n\n             Category 1           Category 2          Category 3  \\\n0                  Caf\u00e9  Japanese Restaurant  Italian Restaurant   \n1     Indian Restaurant                  Bar                Caf\u00e9   \n2    Mexican Restaurant           Art Museum              Museum   \n3  Brazilian Restaurant  Japanese Restaurant                Caf\u00e9   \n4                Lounge   African Restaurant                 Bar   \n\n            Category 4     Category 5        Category 6         Category 7  \\\n0     Sushi Restaurant         Lounge            Garden  French Restaurant   \n1          Flea Market         Lounge  Asian Restaurant     Ice Cream Shop   \n2  Arts & Crafts Store            Bar    Ice Cream Shop           Boutique   \n3               Bakery    Snack Place         Bookstore     Cosmetics Shop   \n4                 Caf\u00e9  Shopping Mall       Pizza Place              Hotel   \n\n                Category 8             Category 9         Category 10  \\\n0             Dessert Shop        Thai Restaurant          Steakhouse   \n1  South Indian Restaurant  Portuguese Restaurant               Plaza   \n2                   Bakery             Restaurant                Caf\u00e9   \n3         Asian Restaurant            Art Gallery  Chinese Restaurant   \n4              Art Gallery     Italian Restaurant              Market   \n\n   Cluster Labels  \n0               2  \n1               1  \n2               0  \n3               2  \n4               0  "
                    }, 
                    "output_type": "execute_result"
                }
            ], 
            "source": "#Add cluster labels\ndftemp = df_onehot.iloc[:,[0,1]]\ndf_New = df.join(dftemp.set_index('Metro'), on='Metropolitan')\ndf_New.head()"
        }, 
        {
            "execution_count": 23, 
            "cell_type": "code", 
            "metadata": {}, 
            "outputs": [
                {
                    "execution_count": 23, 
                    "metadata": {}, 
                    "data": {
                        "text/html": "<div>\n<style scoped>\n    .dataframe tbody tr th:only-of-type {\n        vertical-align: middle;\n    }\n\n    .dataframe tbody tr th {\n        vertical-align: top;\n    }\n\n    .dataframe thead th {\n        text-align: right;\n    }\n</style>\n<table border=\"1\" class=\"dataframe\">\n  <thead>\n    <tr style=\"text-align: right;\">\n      <th></th>\n      <th>Metropolitan</th>\n      <th>Country</th>\n      <th>Cluster Labels</th>\n    </tr>\n  </thead>\n  <tbody>\n    <tr>\n      <th>0</th>\n      <td>Tokyo</td>\n      <td>Japan</td>\n      <td>2</td>\n    </tr>\n    <tr>\n      <th>1</th>\n      <td>Delhi</td>\n      <td>India</td>\n      <td>1</td>\n    </tr>\n    <tr>\n      <th>2</th>\n      <td>Mexico City</td>\n      <td>Mexico</td>\n      <td>0</td>\n    </tr>\n    <tr>\n      <th>3</th>\n      <td>S\u00e3o Paulo</td>\n      <td>Brazil</td>\n      <td>2</td>\n    </tr>\n    <tr>\n      <th>4</th>\n      <td>Lagos</td>\n      <td>Nigeria</td>\n      <td>0</td>\n    </tr>\n    <tr>\n      <th>5</th>\n      <td>Mumbai</td>\n      <td>India</td>\n      <td>1</td>\n    </tr>\n    <tr>\n      <th>6</th>\n      <td>Cairo</td>\n      <td>Egypt</td>\n      <td>2</td>\n    </tr>\n    <tr>\n      <th>7</th>\n      <td>Kyoto</td>\n      <td>Japan</td>\n      <td>2</td>\n    </tr>\n    <tr>\n      <th>8</th>\n      <td>Wuhan</td>\n      <td>China</td>\n      <td>4</td>\n    </tr>\n    <tr>\n      <th>9</th>\n      <td>Los Angeles</td>\n      <td>United States</td>\n      <td>0</td>\n    </tr>\n    <tr>\n      <th>10</th>\n      <td>Chengdu</td>\n      <td>China</td>\n      <td>0</td>\n    </tr>\n    <tr>\n      <th>11</th>\n      <td>Dhaka</td>\n      <td>Bangladesh</td>\n      <td>2</td>\n    </tr>\n    <tr>\n      <th>12</th>\n      <td>Shanghai</td>\n      <td>China</td>\n      <td>0</td>\n    </tr>\n    <tr>\n      <th>13</th>\n      <td>Chongqing</td>\n      <td>China</td>\n      <td>4</td>\n    </tr>\n    <tr>\n      <th>14</th>\n      <td>Karachi</td>\n      <td>Pakistan</td>\n      <td>1</td>\n    </tr>\n  </tbody>\n</table>\n</div>", 
                        "text/plain": "   Metropolitan        Country  Cluster Labels\n0         Tokyo          Japan               2\n1         Delhi          India               1\n2   Mexico City         Mexico               0\n3     S\u00e3o Paulo         Brazil               2\n4         Lagos        Nigeria               0\n5        Mumbai          India               1\n6         Cairo          Egypt               2\n7         Kyoto          Japan               2\n8         Wuhan          China               4\n9   Los Angeles  United States               0\n10      Chengdu          China               0\n11        Dhaka     Bangladesh               2\n12     Shanghai          China               0\n13    Chongqing          China               4\n14      Karachi       Pakistan               1"
                    }, 
                    "output_type": "execute_result"
                }
            ], 
            "source": "df_New.loc[:,['Metropolitan','Country','Cluster Labels']].head(15)"
        }, 
        {
            "execution_count": 24, 
            "cell_type": "code", 
            "metadata": {}, 
            "outputs": [
                {
                    "output_type": "stream", 
                    "name": "stdout", 
                    "text": "Saved\n"
                }
            ], 
            "source": "#Save dataframe to json file\nresource.Bucket(name=bucket).put_object(Key='VenueDataWithClusters.json', Body=df_New.to_json())\nprint('Saved')"
        }, 
        {
            "execution_count": 25, 
            "cell_type": "code", 
            "metadata": {}, 
            "outputs": [
                {
                    "output_type": "stream", 
                    "name": "stdout", 
                    "text": "Saved 20190914_2035\n"
                }
            ], 
            "source": "#make a backup of the file\nt = datetime.now().strftime('%Y%m%d_%H%M')\nresource.Bucket(name=bucket).put_object(Key='VenueDataWithClusters' + t + '.json', Body=df_New.to_json())\nprint('Saved ' + t)"
        }, 
        {
            "source": "<table style=\"width:100%\">\n    <tr>\n        <td style=\"text-align: left\">\n            <h2>\n                <a href=\"https://nbviewer.jupyter.org/github/KathrynDH/IBMCapstoneFinalProject/blob/master/Explore%20Location%20Data.ipynb\">&larr; Part 3</a>\n            </h2>\n        </td>\n        <td style=\"text-align: right\">\n            <h2>\n                <a href=\"https://nbviewer.jupyter.org/github/KathrynDH/IBMCapstoneFinalProject/blob/master/Explore%20the%20Clusters.ipynb\">Part 5 &rarr;</a>\n            </h2>\n        </td>\n    </tr>\n</table>", 
            "cell_type": "markdown", 
            "metadata": {}
        }, 
        {
            "execution_count": null, 
            "cell_type": "code", 
            "metadata": {}, 
            "outputs": [], 
            "source": ""
        }
    ], 
    "metadata": {
        "kernelspec": {
            "display_name": "Python 3.6", 
            "name": "python3", 
            "language": "python"
        }, 
        "language_info": {
            "mimetype": "text/x-python", 
            "nbconvert_exporter": "python", 
            "version": "3.6.8", 
            "name": "python", 
            "file_extension": ".py", 
            "pygments_lexer": "ipython3", 
            "codemirror_mode": {
                "version": 3, 
                "name": "ipython"
            }
        }
    }, 
    "nbformat": 4
}