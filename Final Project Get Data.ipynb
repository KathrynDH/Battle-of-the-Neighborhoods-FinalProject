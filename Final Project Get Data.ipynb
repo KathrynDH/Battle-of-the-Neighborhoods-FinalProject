{
    "nbformat_minor": 1, 
    "cells": [
        {
            "source": "# Part 1 - Get Location Data\nIn this notebook, I get the top 100 metropolitan areas by population from Wikipedia.  \nLink: https://en.wikipedia.org/wiki/List_of_metropolitan_areas_by_population  \nI then get the latitude and longitude of the metro area.  \nThe data is cleaned so that latitude and longitude are returned for all metro areas.  \nFinally, the dataframe is stored as a json file for later use.\n\n<div style=\"text-align: right\">\n    <h2><a href=\"https://nbviewer.jupyter.org/github/KathrynDH/IBMCapstoneFinalProject/blob/master/Final%20Project%20-%20Get%20FourSquare%20Data.ipynb\">Part 2 &rarr;</a>\n    </h2>\n</div>", 
            "cell_type": "markdown", 
            "metadata": {
                "collapsed": true
            }
        }, 
        {
            "execution_count": 1, 
            "cell_type": "code", 
            "metadata": {}, 
            "outputs": [], 
            "source": "#import libraries\nimport requests\nimport numpy as np\nimport pandas as pd\nimport ibm_boto3\nfrom geopy.geocoders import Nominatim"
        }, 
        {
            "execution_count": 2, 
            "cell_type": "code", 
            "metadata": {}, 
            "outputs": [], 
            "source": "# The code was removed by Watson Studio for sharing."
        }, 
        {
            "execution_count": 3, 
            "cell_type": "code", 
            "metadata": {}, 
            "outputs": [], 
            "source": "#get info from wikipedia\nwikipedia_link='https://en.wikipedia.org/wiki/List_of_metropolitan_areas_by_population'\nraw_page = requests.get(wikipedia_link)\npage = raw_page.text\n#print(page)"
        }, 
        {
            "execution_count": 4, 
            "cell_type": "code", 
            "metadata": {}, 
            "outputs": [], 
            "source": "#Read info from HTML table that contains 'Rank'\nmatch = 'Rank'\ndfArray = pd.read_html(page,match)\n#First element of array is the dataset of interest\ndf=dfArray[0]"
        }, 
        {
            "execution_count": 5, 
            "cell_type": "code", 
            "metadata": {}, 
            "outputs": [
                {
                    "execution_count": 5, 
                    "metadata": {}, 
                    "data": {
                        "text/html": "<div>\n<style scoped>\n    .dataframe tbody tr th:only-of-type {\n        vertical-align: middle;\n    }\n\n    .dataframe tbody tr th {\n        vertical-align: top;\n    }\n\n    .dataframe thead th {\n        text-align: right;\n    }\n</style>\n<table border=\"1\" class=\"dataframe\">\n  <thead>\n    <tr style=\"text-align: right;\">\n      <th></th>\n      <th>Metropolitan</th>\n      <th>Country</th>\n      <th>Continent</th>\n      <th>Latitude</th>\n      <th>Longitude</th>\n    </tr>\n  </thead>\n  <tbody>\n    <tr>\n      <th>0</th>\n      <td>Tokyo</td>\n      <td>Japan</td>\n      <td>Asia</td>\n      <td>NaN</td>\n      <td>NaN</td>\n    </tr>\n    <tr>\n      <th>1</th>\n      <td>Delhi</td>\n      <td>India</td>\n      <td>Asia</td>\n      <td>NaN</td>\n      <td>NaN</td>\n    </tr>\n    <tr>\n      <th>2</th>\n      <td>Shanghai</td>\n      <td>China</td>\n      <td>Asia</td>\n      <td>NaN</td>\n      <td>NaN</td>\n    </tr>\n    <tr>\n      <th>3</th>\n      <td>Jakarta</td>\n      <td>Indonesia</td>\n      <td>Asia</td>\n      <td>NaN</td>\n      <td>NaN</td>\n    </tr>\n    <tr>\n      <th>4</th>\n      <td>Seoul</td>\n      <td>South Korea</td>\n      <td>Asia</td>\n      <td>NaN</td>\n      <td>NaN</td>\n    </tr>\n  </tbody>\n</table>\n</div>", 
                        "text/plain": "  Metropolitan      Country Continent Latitude Longitude\n0        Tokyo        Japan      Asia      NaN       NaN\n1        Delhi        India      Asia      NaN       NaN\n2     Shanghai        China      Asia      NaN       NaN\n3      Jakarta    Indonesia      Asia      NaN       NaN\n4        Seoul  South Korea      Asia      NaN       NaN"
                    }, 
                    "output_type": "execute_result"
                }
            ], 
            "source": "#Process the dataframe\ndf_Metro = df.drop(columns = ['Rank','Official population','Year'])\n#Add latitude and longitude columns\ndf_Metro=pd.concat([df_Metro,pd.DataFrame(columns=['Latitude','Longitude'])], sort=False)\ndf_Metro.head()"
        }, 
        {
            "execution_count": 6, 
            "cell_type": "code", 
            "metadata": {}, 
            "outputs": [
                {
                    "execution_count": 6, 
                    "metadata": {}, 
                    "data": {
                        "text/html": "<div>\n<style scoped>\n    .dataframe tbody tr th:only-of-type {\n        vertical-align: middle;\n    }\n\n    .dataframe tbody tr th {\n        vertical-align: top;\n    }\n\n    .dataframe thead th {\n        text-align: right;\n    }\n</style>\n<table border=\"1\" class=\"dataframe\">\n  <thead>\n    <tr style=\"text-align: right;\">\n      <th></th>\n      <th>Metropolitan</th>\n      <th>Country</th>\n      <th>Continent</th>\n      <th>Latitude</th>\n      <th>Longitude</th>\n    </tr>\n  </thead>\n  <tbody>\n    <tr>\n      <th>0</th>\n      <td>Tokyo</td>\n      <td>Japan</td>\n      <td>Asia</td>\n      <td>35.6828</td>\n      <td>139.759</td>\n    </tr>\n    <tr>\n      <th>1</th>\n      <td>Delhi</td>\n      <td>India</td>\n      <td>Asia</td>\n      <td>28.6517</td>\n      <td>77.2219</td>\n    </tr>\n    <tr>\n      <th>2</th>\n      <td>Shanghai</td>\n      <td>China</td>\n      <td>Asia</td>\n      <td>31.2323</td>\n      <td>121.469</td>\n    </tr>\n    <tr>\n      <th>3</th>\n      <td>Jakarta</td>\n      <td>Indonesia</td>\n      <td>Asia</td>\n      <td>-6.17539</td>\n      <td>106.827</td>\n    </tr>\n    <tr>\n      <th>4</th>\n      <td>Seoul</td>\n      <td>South Korea</td>\n      <td>Asia</td>\n      <td>37.5667</td>\n      <td>126.978</td>\n    </tr>\n  </tbody>\n</table>\n</div>", 
                        "text/plain": "  Metropolitan      Country Continent Latitude Longitude\n0        Tokyo        Japan      Asia  35.6828   139.759\n1        Delhi        India      Asia  28.6517   77.2219\n2     Shanghai        China      Asia  31.2323   121.469\n3      Jakarta    Indonesia      Asia -6.17539   106.827\n4        Seoul  South Korea      Asia  37.5667   126.978"
                    }, 
                    "output_type": "execute_result"
                }
            ], 
            "source": "#Update latitude and longitude for each Metropolitan area\ngeolocator = Nominatim(user_agent=\"m_explorer\")\n\n#Go through each row\nfor index, row in df_Metro.iterrows():\n    location = geolocator.geocode(row['Metropolitan'] +', '+ row['Country'])\n    if location != None:\n        row['Latitude'] = location.latitude\n        row['Longitude'] = location.longitude\ndf_Metro.head()"
        }, 
        {
            "execution_count": 7, 
            "cell_type": "code", 
            "metadata": {}, 
            "outputs": [
                {
                    "execution_count": 7, 
                    "metadata": {}, 
                    "data": {
                        "text/html": "<div>\n<style scoped>\n    .dataframe tbody tr th:only-of-type {\n        vertical-align: middle;\n    }\n\n    .dataframe tbody tr th {\n        vertical-align: top;\n    }\n\n    .dataframe thead th {\n        text-align: right;\n    }\n</style>\n<table border=\"1\" class=\"dataframe\">\n  <thead>\n    <tr style=\"text-align: right;\">\n      <th></th>\n      <th>Metropolitan</th>\n      <th>Country</th>\n      <th>Continent</th>\n      <th>Latitude</th>\n      <th>Longitude</th>\n    </tr>\n  </thead>\n  <tbody>\n    <tr>\n      <th>15</th>\n      <td>Keihanshin (Kyoto-Osaka-Kobe)</td>\n      <td>Japan</td>\n      <td>Asia</td>\n      <td>NaN</td>\n      <td>NaN</td>\n    </tr>\n    <tr>\n      <th>47</th>\n      <td>Washington, D.C. - Baltimore</td>\n      <td>United States</td>\n      <td>North America</td>\n      <td>NaN</td>\n      <td>NaN</td>\n    </tr>\n    <tr>\n      <th>53</th>\n      <td>San Francisco-San Jose-Oakland</td>\n      <td>United States</td>\n      <td>North America</td>\n      <td>NaN</td>\n      <td>NaN</td>\n    </tr>\n    <tr>\n      <th>65</th>\n      <td>Hong Kong</td>\n      <td>CHN</td>\n      <td>Asia</td>\n      <td>NaN</td>\n      <td>NaN</td>\n    </tr>\n  </tbody>\n</table>\n</div>", 
                        "text/plain": "                      Metropolitan        Country      Continent Latitude  \\\n15   Keihanshin (Kyoto-Osaka-Kobe)          Japan           Asia      NaN   \n47    Washington, D.C. - Baltimore  United States  North America      NaN   \n53  San Francisco-San Jose-Oakland  United States  North America      NaN   \n65                       Hong Kong            CHN           Asia      NaN   \n\n   Longitude  \n15       NaN  \n47       NaN  \n53       NaN  \n65       NaN  "
                    }, 
                    "output_type": "execute_result"
                }
            ], 
            "source": "#See if any areas were not located\ndf_nan = df_Metro[df_Metro['Latitude'].isna()]\nnan_index = df_nan.index\ndf_nan"
        }, 
        {
            "execution_count": 8, 
            "cell_type": "code", 
            "metadata": {}, 
            "outputs": [], 
            "source": "#Fix these issues\ndf_Metro.iloc[15, 0] = 'Kyoto'\ndf_Metro.iloc[47, 0] = 'Washington, D.C.'\ndf_Metro.iloc[53, 0] = 'San Francisco'\ndf_Metro.iloc[65, 1] = 'China'"
        }, 
        {
            "execution_count": 9, 
            "cell_type": "code", 
            "metadata": {}, 
            "outputs": [
                {
                    "execution_count": 9, 
                    "metadata": {}, 
                    "data": {
                        "text/html": "<div>\n<style scoped>\n    .dataframe tbody tr th:only-of-type {\n        vertical-align: middle;\n    }\n\n    .dataframe tbody tr th {\n        vertical-align: top;\n    }\n\n    .dataframe thead th {\n        text-align: right;\n    }\n</style>\n<table border=\"1\" class=\"dataframe\">\n  <thead>\n    <tr style=\"text-align: right;\">\n      <th></th>\n      <th>Metropolitan</th>\n      <th>Country</th>\n      <th>Continent</th>\n      <th>Latitude</th>\n      <th>Longitude</th>\n    </tr>\n  </thead>\n  <tbody>\n    <tr>\n      <th>15</th>\n      <td>Kyoto</td>\n      <td>Japan</td>\n      <td>Asia</td>\n      <td>NaN</td>\n      <td>NaN</td>\n    </tr>\n    <tr>\n      <th>47</th>\n      <td>Washington, D.C.</td>\n      <td>United States</td>\n      <td>North America</td>\n      <td>NaN</td>\n      <td>NaN</td>\n    </tr>\n    <tr>\n      <th>53</th>\n      <td>San Francisco</td>\n      <td>United States</td>\n      <td>North America</td>\n      <td>NaN</td>\n      <td>NaN</td>\n    </tr>\n    <tr>\n      <th>65</th>\n      <td>Hong Kong</td>\n      <td>China</td>\n      <td>Asia</td>\n      <td>NaN</td>\n      <td>NaN</td>\n    </tr>\n  </tbody>\n</table>\n</div>", 
                        "text/plain": "        Metropolitan        Country      Continent Latitude Longitude\n15             Kyoto          Japan           Asia      NaN       NaN\n47  Washington, D.C.  United States  North America      NaN       NaN\n53     San Francisco  United States  North America      NaN       NaN\n65         Hong Kong          China           Asia      NaN       NaN"
                    }, 
                    "output_type": "execute_result"
                }
            ], 
            "source": "df_Metro[df_Metro['Latitude'].isna()]"
        }, 
        {
            "execution_count": 10, 
            "cell_type": "code", 
            "metadata": {}, 
            "outputs": [], 
            "source": "#Try again\nfor i in nan_index:\n        location = geolocator.geocode(df_Metro.iloc[i, 0] +', '+ df_Metro.iloc[i, 1])\n        if location != None:\n            df_Metro.iloc[i, 3] = location.latitude\n            df_Metro.iloc[i, 4] = location.longitude"
        }, 
        {
            "execution_count": 11, 
            "cell_type": "code", 
            "metadata": {}, 
            "outputs": [
                {
                    "execution_count": 11, 
                    "metadata": {}, 
                    "data": {
                        "text/html": "<div>\n<style scoped>\n    .dataframe tbody tr th:only-of-type {\n        vertical-align: middle;\n    }\n\n    .dataframe tbody tr th {\n        vertical-align: top;\n    }\n\n    .dataframe thead th {\n        text-align: right;\n    }\n</style>\n<table border=\"1\" class=\"dataframe\">\n  <thead>\n    <tr style=\"text-align: right;\">\n      <th></th>\n      <th>Metropolitan</th>\n      <th>Country</th>\n      <th>Continent</th>\n      <th>Latitude</th>\n      <th>Longitude</th>\n    </tr>\n  </thead>\n  <tbody>\n  </tbody>\n</table>\n</div>", 
                        "text/plain": "Empty DataFrame\nColumns: [Metropolitan, Country, Continent, Latitude, Longitude]\nIndex: []"
                    }, 
                    "output_type": "execute_result"
                }
            ], 
            "source": "#Check to see if errors were resolved\ndf_Metro[df_Metro['Latitude'].isna()]"
        }, 
        {
            "execution_count": 12, 
            "cell_type": "code", 
            "metadata": {}, 
            "outputs": [
                {
                    "execution_count": 12, 
                    "metadata": {}, 
                    "data": {
                        "text/html": "<div>\n<style scoped>\n    .dataframe tbody tr th:only-of-type {\n        vertical-align: middle;\n    }\n\n    .dataframe tbody tr th {\n        vertical-align: top;\n    }\n\n    .dataframe thead th {\n        text-align: right;\n    }\n</style>\n<table border=\"1\" class=\"dataframe\">\n  <thead>\n    <tr style=\"text-align: right;\">\n      <th></th>\n      <th>Metropolitan</th>\n      <th>Country</th>\n      <th>Continent</th>\n      <th>Latitude</th>\n      <th>Longitude</th>\n    </tr>\n  </thead>\n  <tbody>\n    <tr>\n      <th>0</th>\n      <td>Tokyo</td>\n      <td>Japan</td>\n      <td>Asia</td>\n      <td>35.6828</td>\n      <td>139.759</td>\n    </tr>\n    <tr>\n      <th>1</th>\n      <td>Delhi</td>\n      <td>India</td>\n      <td>Asia</td>\n      <td>28.6517</td>\n      <td>77.2219</td>\n    </tr>\n    <tr>\n      <th>2</th>\n      <td>Shanghai</td>\n      <td>China</td>\n      <td>Asia</td>\n      <td>31.2323</td>\n      <td>121.469</td>\n    </tr>\n    <tr>\n      <th>3</th>\n      <td>Jakarta</td>\n      <td>Indonesia</td>\n      <td>Asia</td>\n      <td>-6.17539</td>\n      <td>106.827</td>\n    </tr>\n    <tr>\n      <th>4</th>\n      <td>Seoul</td>\n      <td>South Korea</td>\n      <td>Asia</td>\n      <td>37.5667</td>\n      <td>126.978</td>\n    </tr>\n  </tbody>\n</table>\n</div>", 
                        "text/plain": "  Metropolitan      Country Continent Latitude Longitude\n0        Tokyo        Japan      Asia  35.6828   139.759\n1        Delhi        India      Asia  28.6517   77.2219\n2     Shanghai        China      Asia  31.2323   121.469\n3      Jakarta    Indonesia      Asia -6.17539   106.827\n4        Seoul  South Korea      Asia  37.5667   126.978"
                    }, 
                    "output_type": "execute_result"
                }
            ], 
            "source": "df_Metro.head()"
        }, 
        {
            "execution_count": 13, 
            "cell_type": "code", 
            "metadata": {}, 
            "outputs": [
                {
                    "output_type": "stream", 
                    "name": "stdout", 
                    "text": "Saved\n"
                }
            ], 
            "source": "resource.Bucket(name=bucket).put_object(Key='MetroData.json', Body=df_Metro.to_json())\nprint('Saved')"
        }, 
        {
            "source": "<div style=\"text-align: right\">\n    <h2><a href=\"https://nbviewer.jupyter.org/github/KathrynDH/IBMCapstoneFinalProject/blob/master/Final%20Project%20-%20Get%20FourSquare%20Data.ipynb\">Part 2 &rarr;</a>\n    </h2>\n</div>", 
            "cell_type": "markdown", 
            "metadata": {}
        }, 
        {
            "execution_count": null, 
            "cell_type": "code", 
            "metadata": {}, 
            "outputs": [], 
            "source": ""
        }
    ], 
    "metadata": {
        "kernelspec": {
            "display_name": "Python 3.6", 
            "name": "python3", 
            "language": "python"
        }, 
        "language_info": {
            "mimetype": "text/x-python", 
            "nbconvert_exporter": "python", 
            "version": "3.6.8", 
            "name": "python", 
            "file_extension": ".py", 
            "pygments_lexer": "ipython3", 
            "codemirror_mode": {
                "version": 3, 
                "name": "ipython"
            }
        }
    }, 
    "nbformat": 4
}