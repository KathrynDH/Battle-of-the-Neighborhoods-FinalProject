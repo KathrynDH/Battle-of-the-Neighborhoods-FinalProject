{
    "nbformat_minor": 1, 
    "cells": [
        {
            "source": "# Get Data", 
            "cell_type": "markdown", 
            "metadata": {
                "collapsed": true
            }
        }, 
        {
            "execution_count": 1, 
            "cell_type": "code", 
            "metadata": {}, 
            "outputs": [], 
            "source": "#import libraries\nimport requests\nimport numpy as np\nimport pandas as pd\nfrom geopy.geocoders import Nominatim"
        }, 
        {
            "execution_count": 2, 
            "cell_type": "code", 
            "metadata": {}, 
            "outputs": [], 
            "source": "#get info from wikipedia\nwikipedia_link='https://en.wikipedia.org/wiki/List_of_metropolitan_areas_by_population'\nraw_page = requests.get(wikipedia_link)\npage = raw_page.text\n#print(page)"
        }, 
        {
            "execution_count": 3, 
            "cell_type": "code", 
            "metadata": {}, 
            "outputs": [], 
            "source": "#Read info from HTML table that contains 'Postcode'\nmatch = 'Rank'\ndfArray = pd.read_html(page,match)\n#First element of array is the dataset of interest\ndf=dfArray[0]\n#df.head()"
        }, 
        {
            "execution_count": 4, 
            "cell_type": "code", 
            "metadata": {}, 
            "outputs": [
                {
                    "execution_count": 4, 
                    "metadata": {}, 
                    "data": {
                        "text/html": "<div>\n<style scoped>\n    .dataframe tbody tr th:only-of-type {\n        vertical-align: middle;\n    }\n\n    .dataframe tbody tr th {\n        vertical-align: top;\n    }\n\n    .dataframe thead th {\n        text-align: right;\n    }\n</style>\n<table border=\"1\" class=\"dataframe\">\n  <thead>\n    <tr style=\"text-align: right;\">\n      <th></th>\n      <th>Metropolitan</th>\n      <th>Country</th>\n      <th>Continent</th>\n      <th>Latitude</th>\n      <th>Longitude</th>\n    </tr>\n  </thead>\n  <tbody>\n    <tr>\n      <th>0</th>\n      <td>Tokyo</td>\n      <td>Japan</td>\n      <td>Asia</td>\n      <td>NaN</td>\n      <td>NaN</td>\n    </tr>\n    <tr>\n      <th>1</th>\n      <td>Delhi</td>\n      <td>India</td>\n      <td>Asia</td>\n      <td>NaN</td>\n      <td>NaN</td>\n    </tr>\n    <tr>\n      <th>2</th>\n      <td>Shanghai</td>\n      <td>China</td>\n      <td>Asia</td>\n      <td>NaN</td>\n      <td>NaN</td>\n    </tr>\n    <tr>\n      <th>3</th>\n      <td>Jakarta</td>\n      <td>Indonesia</td>\n      <td>Asia</td>\n      <td>NaN</td>\n      <td>NaN</td>\n    </tr>\n    <tr>\n      <th>4</th>\n      <td>Seoul</td>\n      <td>South Korea</td>\n      <td>Asia</td>\n      <td>NaN</td>\n      <td>NaN</td>\n    </tr>\n  </tbody>\n</table>\n</div>", 
                        "text/plain": "  Metropolitan      Country Continent Latitude Longitude\n0        Tokyo        Japan      Asia      NaN       NaN\n1        Delhi        India      Asia      NaN       NaN\n2     Shanghai        China      Asia      NaN       NaN\n3      Jakarta    Indonesia      Asia      NaN       NaN\n4        Seoul  South Korea      Asia      NaN       NaN"
                    }, 
                    "output_type": "execute_result"
                }
            ], 
            "source": "#Process the dataframe\ndf_Metro = df.drop(columns = ['Rank','Official population','Year'])\n#Add latitude and longitude columns\ndf_Metro=pd.concat([df_Metro,pd.DataFrame(columns=['Latitude','Longitude'])], sort=False)\ndf_Metro.head()"
        }, 
        {
            "execution_count": 5, 
            "cell_type": "code", 
            "metadata": {}, 
            "outputs": [
                {
                    "execution_count": 5, 
                    "metadata": {}, 
                    "data": {
                        "text/html": "<div>\n<style scoped>\n    .dataframe tbody tr th:only-of-type {\n        vertical-align: middle;\n    }\n\n    .dataframe tbody tr th {\n        vertical-align: top;\n    }\n\n    .dataframe thead th {\n        text-align: right;\n    }\n</style>\n<table border=\"1\" class=\"dataframe\">\n  <thead>\n    <tr style=\"text-align: right;\">\n      <th></th>\n      <th>Metropolitan</th>\n      <th>Country</th>\n      <th>Continent</th>\n      <th>Latitude</th>\n      <th>Longitude</th>\n    </tr>\n  </thead>\n  <tbody>\n    <tr>\n      <th>0</th>\n      <td>Tokyo</td>\n      <td>Japan</td>\n      <td>Asia</td>\n      <td>35.6828</td>\n      <td>139.759</td>\n    </tr>\n    <tr>\n      <th>1</th>\n      <td>Delhi</td>\n      <td>India</td>\n      <td>Asia</td>\n      <td>28.6517</td>\n      <td>77.2219</td>\n    </tr>\n    <tr>\n      <th>2</th>\n      <td>Shanghai</td>\n      <td>China</td>\n      <td>Asia</td>\n      <td>31.2323</td>\n      <td>121.469</td>\n    </tr>\n    <tr>\n      <th>3</th>\n      <td>Jakarta</td>\n      <td>Indonesia</td>\n      <td>Asia</td>\n      <td>-6.17539</td>\n      <td>106.827</td>\n    </tr>\n    <tr>\n      <th>4</th>\n      <td>Seoul</td>\n      <td>South Korea</td>\n      <td>Asia</td>\n      <td>37.5667</td>\n      <td>126.978</td>\n    </tr>\n  </tbody>\n</table>\n</div>", 
                        "text/plain": "  Metropolitan      Country Continent Latitude Longitude\n0        Tokyo        Japan      Asia  35.6828   139.759\n1        Delhi        India      Asia  28.6517   77.2219\n2     Shanghai        China      Asia  31.2323   121.469\n3      Jakarta    Indonesia      Asia -6.17539   106.827\n4        Seoul  South Korea      Asia  37.5667   126.978"
                    }, 
                    "output_type": "execute_result"
                }
            ], 
            "source": "#Update latitude and longitude for each Metropolitan area\ngeolocator = Nominatim(user_agent=\"tor_explorer\")\n\n#Go through each row\nfor index, row in df_Metro.iterrows():\n    location = geolocator.geocode(row['Metropolitan'] +', '+ row['Country'])\n    if location != None:\n        row['Latitude'] = location.latitude\n        row['Longitude'] = location.longitude\ndf_Metro.head()"
        }, 
        {
            "execution_count": 6, 
            "cell_type": "code", 
            "metadata": {}, 
            "outputs": [
                {
                    "execution_count": 6, 
                    "metadata": {}, 
                    "data": {
                        "text/html": "<div>\n<style scoped>\n    .dataframe tbody tr th:only-of-type {\n        vertical-align: middle;\n    }\n\n    .dataframe tbody tr th {\n        vertical-align: top;\n    }\n\n    .dataframe thead th {\n        text-align: right;\n    }\n</style>\n<table border=\"1\" class=\"dataframe\">\n  <thead>\n    <tr style=\"text-align: right;\">\n      <th></th>\n      <th>Metropolitan</th>\n      <th>Country</th>\n      <th>Continent</th>\n      <th>Latitude</th>\n      <th>Longitude</th>\n    </tr>\n  </thead>\n  <tbody>\n    <tr>\n      <th>15</th>\n      <td>Keihanshin (Kyoto-Osaka-Kobe)</td>\n      <td>Japan</td>\n      <td>Asia</td>\n      <td>NaN</td>\n      <td>NaN</td>\n    </tr>\n    <tr>\n      <th>47</th>\n      <td>Washington, D.C. - Baltimore</td>\n      <td>United States</td>\n      <td>North America</td>\n      <td>NaN</td>\n      <td>NaN</td>\n    </tr>\n    <tr>\n      <th>64</th>\n      <td>Hong Kong</td>\n      <td>CHN</td>\n      <td>Asia</td>\n      <td>NaN</td>\n      <td>NaN</td>\n    </tr>\n    <tr>\n      <th>96</th>\n      <td>San Francisco-Oakland-Hayward</td>\n      <td>United States</td>\n      <td>North America</td>\n      <td>NaN</td>\n      <td>NaN</td>\n    </tr>\n  </tbody>\n</table>\n</div>", 
                        "text/plain": "                     Metropolitan        Country      Continent Latitude  \\\n15  Keihanshin (Kyoto-Osaka-Kobe)          Japan           Asia      NaN   \n47   Washington, D.C. - Baltimore  United States  North America      NaN   \n64                      Hong Kong            CHN           Asia      NaN   \n96  San Francisco-Oakland-Hayward  United States  North America      NaN   \n\n   Longitude  \n15       NaN  \n47       NaN  \n64       NaN  \n96       NaN  "
                    }, 
                    "output_type": "execute_result"
                }
            ], 
            "source": "#See if any areas were not located\ndf_nan = df_Metro[df_Metro['Latitude'].isna()]\nnan_index = df_nan.index\ndf_nan"
        }, 
        {
            "execution_count": 7, 
            "cell_type": "code", 
            "metadata": {}, 
            "outputs": [], 
            "source": "#Fix these issues\ndf_Metro.iloc[15, 0] = 'Kyoto'\ndf_Metro.iloc[47, 0] = 'Washington, D.C.'\ndf_Metro.iloc[64, 1] = 'China'\ndf_Metro.iloc[96, 0] = 'San Francisco'"
        }, 
        {
            "execution_count": 8, 
            "cell_type": "code", 
            "metadata": {}, 
            "outputs": [], 
            "source": "#Try again\nfor i in nan_index:\n        location = geolocator.geocode(df_Metro.iloc[i, 0] +', '+ df_Metro.iloc[i, 1])\n        if location != None:\n            df_Metro.iloc[i, 3] = location.latitude\n            df_Metro.iloc[i, 4] = location.longitude"
        }, 
        {
            "execution_count": 9, 
            "cell_type": "code", 
            "metadata": {}, 
            "outputs": [
                {
                    "execution_count": 9, 
                    "metadata": {}, 
                    "data": {
                        "text/html": "<div>\n<style scoped>\n    .dataframe tbody tr th:only-of-type {\n        vertical-align: middle;\n    }\n\n    .dataframe tbody tr th {\n        vertical-align: top;\n    }\n\n    .dataframe thead th {\n        text-align: right;\n    }\n</style>\n<table border=\"1\" class=\"dataframe\">\n  <thead>\n    <tr style=\"text-align: right;\">\n      <th></th>\n      <th>Metropolitan</th>\n      <th>Country</th>\n      <th>Continent</th>\n      <th>Latitude</th>\n      <th>Longitude</th>\n    </tr>\n  </thead>\n  <tbody>\n  </tbody>\n</table>\n</div>", 
                        "text/plain": "Empty DataFrame\nColumns: [Metropolitan, Country, Continent, Latitude, Longitude]\nIndex: []"
                    }, 
                    "output_type": "execute_result"
                }
            ], 
            "source": "#Check to see if errors were resolved\ndf_Metro[df_Metro['Latitude'].isna()]"
        }, 
        {
            "execution_count": 10, 
            "cell_type": "code", 
            "metadata": {}, 
            "outputs": [
                {
                    "execution_count": 10, 
                    "metadata": {}, 
                    "data": {
                        "text/html": "<div>\n<style scoped>\n    .dataframe tbody tr th:only-of-type {\n        vertical-align: middle;\n    }\n\n    .dataframe tbody tr th {\n        vertical-align: top;\n    }\n\n    .dataframe thead th {\n        text-align: right;\n    }\n</style>\n<table border=\"1\" class=\"dataframe\">\n  <thead>\n    <tr style=\"text-align: right;\">\n      <th></th>\n      <th>Metropolitan</th>\n      <th>Country</th>\n      <th>Continent</th>\n      <th>Latitude</th>\n      <th>Longitude</th>\n    </tr>\n  </thead>\n  <tbody>\n    <tr>\n      <th>0</th>\n      <td>Tokyo</td>\n      <td>Japan</td>\n      <td>Asia</td>\n      <td>35.6828</td>\n      <td>139.759</td>\n    </tr>\n    <tr>\n      <th>1</th>\n      <td>Delhi</td>\n      <td>India</td>\n      <td>Asia</td>\n      <td>28.6517</td>\n      <td>77.2219</td>\n    </tr>\n    <tr>\n      <th>2</th>\n      <td>Shanghai</td>\n      <td>China</td>\n      <td>Asia</td>\n      <td>31.2323</td>\n      <td>121.469</td>\n    </tr>\n    <tr>\n      <th>3</th>\n      <td>Jakarta</td>\n      <td>Indonesia</td>\n      <td>Asia</td>\n      <td>-6.17539</td>\n      <td>106.827</td>\n    </tr>\n    <tr>\n      <th>4</th>\n      <td>Seoul</td>\n      <td>South Korea</td>\n      <td>Asia</td>\n      <td>37.5667</td>\n      <td>126.978</td>\n    </tr>\n    <tr>\n      <th>5</th>\n      <td>Guangzhou</td>\n      <td>China</td>\n      <td>Asia</td>\n      <td>23.1302</td>\n      <td>113.259</td>\n    </tr>\n    <tr>\n      <th>6</th>\n      <td>Beijing</td>\n      <td>China</td>\n      <td>Asia</td>\n      <td>40.1906</td>\n      <td>116.412</td>\n    </tr>\n    <tr>\n      <th>7</th>\n      <td>Manila</td>\n      <td>Philippines</td>\n      <td>Asia</td>\n      <td>14.5906</td>\n      <td>120.98</td>\n    </tr>\n    <tr>\n      <th>8</th>\n      <td>New York City</td>\n      <td>United States</td>\n      <td>North America</td>\n      <td>40.7127</td>\n      <td>-74.006</td>\n    </tr>\n    <tr>\n      <th>9</th>\n      <td>Shenzhen</td>\n      <td>China</td>\n      <td>Asia</td>\n      <td>22.5446</td>\n      <td>114.055</td>\n    </tr>\n    <tr>\n      <th>10</th>\n      <td>Mexico City</td>\n      <td>Mexico</td>\n      <td>North America</td>\n      <td>19.4326</td>\n      <td>-99.1333</td>\n    </tr>\n    <tr>\n      <th>11</th>\n      <td>S\u00e3o Paulo</td>\n      <td>Brazil</td>\n      <td>South America</td>\n      <td>-23.5507</td>\n      <td>-46.6334</td>\n    </tr>\n    <tr>\n      <th>12</th>\n      <td>Lagos</td>\n      <td>Nigeria</td>\n      <td>Africa</td>\n      <td>6.45506</td>\n      <td>3.39418</td>\n    </tr>\n    <tr>\n      <th>13</th>\n      <td>Mumbai</td>\n      <td>India</td>\n      <td>Asia</td>\n      <td>18.9388</td>\n      <td>72.8353</td>\n    </tr>\n    <tr>\n      <th>14</th>\n      <td>Cairo</td>\n      <td>Egypt</td>\n      <td>Africa</td>\n      <td>30.0488</td>\n      <td>31.2437</td>\n    </tr>\n    <tr>\n      <th>15</th>\n      <td>Kyoto</td>\n      <td>Japan</td>\n      <td>Asia</td>\n      <td>35.021</td>\n      <td>135.756</td>\n    </tr>\n    <tr>\n      <th>16</th>\n      <td>Wuhan</td>\n      <td>China</td>\n      <td>Asia</td>\n      <td>30.5951</td>\n      <td>114.3</td>\n    </tr>\n    <tr>\n      <th>17</th>\n      <td>Los Angeles</td>\n      <td>United States</td>\n      <td>North America</td>\n      <td>34.0537</td>\n      <td>-118.243</td>\n    </tr>\n    <tr>\n      <th>18</th>\n      <td>Chengdu</td>\n      <td>China</td>\n      <td>Asia</td>\n      <td>30.6624</td>\n      <td>104.063</td>\n    </tr>\n    <tr>\n      <th>19</th>\n      <td>Dhaka</td>\n      <td>Bangladesh</td>\n      <td>Asia</td>\n      <td>23.7594</td>\n      <td>90.3788</td>\n    </tr>\n    <tr>\n      <th>20</th>\n      <td>Chongqing</td>\n      <td>China</td>\n      <td>Asia</td>\n      <td>29.5586</td>\n      <td>106.549</td>\n    </tr>\n    <tr>\n      <th>21</th>\n      <td>Karachi</td>\n      <td>Pakistan</td>\n      <td>Asia</td>\n      <td>25.1447</td>\n      <td>67.1848</td>\n    </tr>\n    <tr>\n      <th>22</th>\n      <td>Moscow</td>\n      <td>Russia</td>\n      <td>Europe</td>\n      <td>55.7504</td>\n      <td>37.6175</td>\n    </tr>\n    <tr>\n      <th>23</th>\n      <td>Tianjin</td>\n      <td>China</td>\n      <td>Asia</td>\n      <td>39.3033</td>\n      <td>117.416</td>\n    </tr>\n    <tr>\n      <th>24</th>\n      <td>Istanbul</td>\n      <td>Turkey</td>\n      <td>Europe</td>\n      <td>41.0096</td>\n      <td>28.9652</td>\n    </tr>\n    <tr>\n      <th>25</th>\n      <td>Bangkok</td>\n      <td>Thailand</td>\n      <td>Asia</td>\n      <td>13.7539</td>\n      <td>100.816</td>\n    </tr>\n    <tr>\n      <th>26</th>\n      <td>Kolkata</td>\n      <td>India</td>\n      <td>Asia</td>\n      <td>22.5677</td>\n      <td>88.3476</td>\n    </tr>\n    <tr>\n      <th>27</th>\n      <td>Tehran</td>\n      <td>Iran</td>\n      <td>Asia</td>\n      <td>35.7006</td>\n      <td>51.4014</td>\n    </tr>\n    <tr>\n      <th>28</th>\n      <td>London</td>\n      <td>United Kingdom</td>\n      <td>Europe</td>\n      <td>51.5073</td>\n      <td>-0.127647</td>\n    </tr>\n    <tr>\n      <th>29</th>\n      <td>Hangzhou</td>\n      <td>China</td>\n      <td>Asia</td>\n      <td>30.249</td>\n      <td>120.205</td>\n    </tr>\n    <tr>\n      <th>...</th>\n      <td>...</td>\n      <td>...</td>\n      <td>...</td>\n      <td>...</td>\n      <td>...</td>\n    </tr>\n    <tr>\n      <th>70</th>\n      <td>Miami</td>\n      <td>United States</td>\n      <td>North America</td>\n      <td>25.7743</td>\n      <td>-80.1937</td>\n    </tr>\n    <tr>\n      <th>71</th>\n      <td>Santiago</td>\n      <td>Chile</td>\n      <td>South America</td>\n      <td>-33.4378</td>\n      <td>-70.6504</td>\n    </tr>\n    <tr>\n      <th>72</th>\n      <td>Atlanta</td>\n      <td>United States</td>\n      <td>North America</td>\n      <td>33.7491</td>\n      <td>-84.3902</td>\n    </tr>\n    <tr>\n      <th>73</th>\n      <td>Madrid</td>\n      <td>Spain</td>\n      <td>Europe</td>\n      <td>40.4167</td>\n      <td>-3.70358</td>\n    </tr>\n    <tr>\n      <th>74</th>\n      <td>Luanda</td>\n      <td>Angola</td>\n      <td>Africa</td>\n      <td>-8.82727</td>\n      <td>13.244</td>\n    </tr>\n    <tr>\n      <th>75</th>\n      <td>Toronto</td>\n      <td>Canada</td>\n      <td>North America</td>\n      <td>43.654</td>\n      <td>-79.3872</td>\n    </tr>\n    <tr>\n      <th>76</th>\n      <td>Ahmedabad</td>\n      <td>India</td>\n      <td>Asia</td>\n      <td>23.0216</td>\n      <td>72.5797</td>\n    </tr>\n    <tr>\n      <th>77</th>\n      <td>Saint Petersburg</td>\n      <td>Russia</td>\n      <td>Europe</td>\n      <td>59.9387</td>\n      <td>30.3162</td>\n    </tr>\n    <tr>\n      <th>78</th>\n      <td>Berlin/Brandenburg</td>\n      <td>Germany</td>\n      <td>Europe</td>\n      <td>52.3734</td>\n      <td>13.5113</td>\n    </tr>\n    <tr>\n      <th>79</th>\n      <td>Munich</td>\n      <td>Germany</td>\n      <td>Europe</td>\n      <td>48.1371</td>\n      <td>11.5754</td>\n    </tr>\n    <tr>\n      <th>80</th>\n      <td>Belo Horizonte</td>\n      <td>Brazil</td>\n      <td>South America</td>\n      <td>-19.9227</td>\n      <td>-43.9451</td>\n    </tr>\n    <tr>\n      <th>81</th>\n      <td>Kanpur</td>\n      <td>India</td>\n      <td>Asia</td>\n      <td>26.4609</td>\n      <td>80.3218</td>\n    </tr>\n    <tr>\n      <th>82</th>\n      <td>Frankfurt Rhine-Main</td>\n      <td>Germany</td>\n      <td>Europe</td>\n      <td>51.2193</td>\n      <td>6.78926</td>\n    </tr>\n    <tr>\n      <th>83</th>\n      <td>Singapore</td>\n      <td>Singapore</td>\n      <td>Asia</td>\n      <td>1.34086</td>\n      <td>103.83</td>\n    </tr>\n    <tr>\n      <th>84</th>\n      <td>Barcelona</td>\n      <td>Spain</td>\n      <td>Europe</td>\n      <td>41.3829</td>\n      <td>2.17743</td>\n    </tr>\n    <tr>\n      <th>85</th>\n      <td>Ankara</td>\n      <td>Turkey</td>\n      <td>Asia</td>\n      <td>39.9208</td>\n      <td>32.8541</td>\n    </tr>\n    <tr>\n      <th>86</th>\n      <td>Detroit</td>\n      <td>United States</td>\n      <td>North America</td>\n      <td>42.3316</td>\n      <td>-83.0466</td>\n    </tr>\n    <tr>\n      <th>87</th>\n      <td>Caracas</td>\n      <td>Venezuela</td>\n      <td>South America</td>\n      <td>10.5061</td>\n      <td>-66.9146</td>\n    </tr>\n    <tr>\n      <th>88</th>\n      <td>Dubai-Sharjah-Ajman</td>\n      <td>United Arab Emirates</td>\n      <td>Asia</td>\n      <td>25.2356</td>\n      <td>55.2967</td>\n    </tr>\n    <tr>\n      <th>89</th>\n      <td>Stuttgart</td>\n      <td>Germany</td>\n      <td>Europe</td>\n      <td>48.7784</td>\n      <td>9.18001</td>\n    </tr>\n    <tr>\n      <th>90</th>\n      <td>Hamburg</td>\n      <td>Germany</td>\n      <td>Europe</td>\n      <td>53.5503</td>\n      <td>10.0007</td>\n    </tr>\n    <tr>\n      <th>91</th>\n      <td>Sydney</td>\n      <td>Australia</td>\n      <td>Oceania</td>\n      <td>-33.8548</td>\n      <td>151.216</td>\n    </tr>\n    <tr>\n      <th>92</th>\n      <td>Guadalajara</td>\n      <td>Mexico</td>\n      <td>North America</td>\n      <td>20.672</td>\n      <td>-103.338</td>\n    </tr>\n    <tr>\n      <th>93</th>\n      <td>Alexandria</td>\n      <td>Egypt</td>\n      <td>Africa</td>\n      <td>31.199</td>\n      <td>29.8944</td>\n    </tr>\n    <tr>\n      <th>94</th>\n      <td>Seattle</td>\n      <td>United States</td>\n      <td>North America</td>\n      <td>47.6038</td>\n      <td>-122.33</td>\n    </tr>\n    <tr>\n      <th>95</th>\n      <td>Phoenix</td>\n      <td>United States</td>\n      <td>North America</td>\n      <td>33.4486</td>\n      <td>-112.077</td>\n    </tr>\n    <tr>\n      <th>96</th>\n      <td>San Francisco</td>\n      <td>United States</td>\n      <td>North America</td>\n      <td>37.7793</td>\n      <td>-122.419</td>\n    </tr>\n    <tr>\n      <th>97</th>\n      <td>Melbourne</td>\n      <td>Australia</td>\n      <td>Oceania</td>\n      <td>-37.8142</td>\n      <td>144.963</td>\n    </tr>\n    <tr>\n      <th>98</th>\n      <td>Monterrey</td>\n      <td>Mexico</td>\n      <td>North America</td>\n      <td>25.6398</td>\n      <td>-100.293</td>\n    </tr>\n    <tr>\n      <th>99</th>\n      <td>Khartoum</td>\n      <td>Sudan</td>\n      <td>Africa</td>\n      <td>15.5933</td>\n      <td>32.5356</td>\n    </tr>\n  </tbody>\n</table>\n<p>100 rows \u00d7 5 columns</p>\n</div>", 
                        "text/plain": "            Metropolitan               Country      Continent Latitude  \\\n0                  Tokyo                 Japan           Asia  35.6828   \n1                  Delhi                 India           Asia  28.6517   \n2               Shanghai                 China           Asia  31.2323   \n3                Jakarta             Indonesia           Asia -6.17539   \n4                  Seoul           South Korea           Asia  37.5667   \n5              Guangzhou                 China           Asia  23.1302   \n6                Beijing                 China           Asia  40.1906   \n7                 Manila           Philippines           Asia  14.5906   \n8          New York City         United States  North America  40.7127   \n9               Shenzhen                 China           Asia  22.5446   \n10           Mexico City                Mexico  North America  19.4326   \n11             S\u00e3o Paulo                Brazil  South America -23.5507   \n12                 Lagos               Nigeria         Africa  6.45506   \n13                Mumbai                 India           Asia  18.9388   \n14                 Cairo                 Egypt         Africa  30.0488   \n15                 Kyoto                 Japan           Asia   35.021   \n16                 Wuhan                 China           Asia  30.5951   \n17           Los Angeles         United States  North America  34.0537   \n18               Chengdu                 China           Asia  30.6624   \n19                 Dhaka            Bangladesh           Asia  23.7594   \n20             Chongqing                 China           Asia  29.5586   \n21               Karachi              Pakistan           Asia  25.1447   \n22                Moscow                Russia         Europe  55.7504   \n23               Tianjin                 China           Asia  39.3033   \n24              Istanbul                Turkey         Europe  41.0096   \n25               Bangkok              Thailand           Asia  13.7539   \n26               Kolkata                 India           Asia  22.5677   \n27                Tehran                  Iran           Asia  35.7006   \n28                London        United Kingdom         Europe  51.5073   \n29              Hangzhou                 China           Asia   30.249   \n..                   ...                   ...            ...      ...   \n70                 Miami         United States  North America  25.7743   \n71              Santiago                 Chile  South America -33.4378   \n72               Atlanta         United States  North America  33.7491   \n73                Madrid                 Spain         Europe  40.4167   \n74                Luanda                Angola         Africa -8.82727   \n75               Toronto                Canada  North America   43.654   \n76             Ahmedabad                 India           Asia  23.0216   \n77      Saint Petersburg                Russia         Europe  59.9387   \n78    Berlin/Brandenburg               Germany         Europe  52.3734   \n79                Munich               Germany         Europe  48.1371   \n80        Belo Horizonte                Brazil  South America -19.9227   \n81                Kanpur                 India           Asia  26.4609   \n82  Frankfurt Rhine-Main               Germany         Europe  51.2193   \n83             Singapore             Singapore           Asia  1.34086   \n84             Barcelona                 Spain         Europe  41.3829   \n85                Ankara                Turkey           Asia  39.9208   \n86               Detroit         United States  North America  42.3316   \n87               Caracas             Venezuela  South America  10.5061   \n88   Dubai-Sharjah-Ajman  United Arab Emirates           Asia  25.2356   \n89             Stuttgart               Germany         Europe  48.7784   \n90               Hamburg               Germany         Europe  53.5503   \n91                Sydney             Australia        Oceania -33.8548   \n92           Guadalajara                Mexico  North America   20.672   \n93            Alexandria                 Egypt         Africa   31.199   \n94               Seattle         United States  North America  47.6038   \n95               Phoenix         United States  North America  33.4486   \n96         San Francisco         United States  North America  37.7793   \n97             Melbourne             Australia        Oceania -37.8142   \n98             Monterrey                Mexico  North America  25.6398   \n99              Khartoum                 Sudan         Africa  15.5933   \n\n   Longitude  \n0    139.759  \n1    77.2219  \n2    121.469  \n3    106.827  \n4    126.978  \n5    113.259  \n6    116.412  \n7     120.98  \n8    -74.006  \n9    114.055  \n10  -99.1333  \n11  -46.6334  \n12   3.39418  \n13   72.8353  \n14   31.2437  \n15   135.756  \n16     114.3  \n17  -118.243  \n18   104.063  \n19   90.3788  \n20   106.549  \n21   67.1848  \n22   37.6175  \n23   117.416  \n24   28.9652  \n25   100.816  \n26   88.3476  \n27   51.4014  \n28 -0.127647  \n29   120.205  \n..       ...  \n70  -80.1937  \n71  -70.6504  \n72  -84.3902  \n73  -3.70358  \n74    13.244  \n75  -79.3872  \n76   72.5797  \n77   30.3162  \n78   13.5113  \n79   11.5754  \n80  -43.9451  \n81   80.3218  \n82   6.78926  \n83    103.83  \n84   2.17743  \n85   32.8541  \n86  -83.0466  \n87  -66.9146  \n88   55.2967  \n89   9.18001  \n90   10.0007  \n91   151.216  \n92  -103.338  \n93   29.8944  \n94   -122.33  \n95  -112.077  \n96  -122.419  \n97   144.963  \n98  -100.293  \n99   32.5356  \n\n[100 rows x 5 columns]"
                    }, 
                    "output_type": "execute_result"
                }
            ], 
            "source": "df_Metro"
        }, 
        {
            "execution_count": 12, 
            "cell_type": "code", 
            "metadata": {}, 
            "outputs": [], 
            "source": "#Save dataframe to a json file\ndf_Metro.to_json(r'MetroData')"
        }, 
        {
            "execution_count": null, 
            "cell_type": "code", 
            "metadata": {}, 
            "outputs": [], 
            "source": ""
        }
    ], 
    "metadata": {
        "kernelspec": {
            "display_name": "Python 3.6", 
            "name": "python3", 
            "language": "python"
        }, 
        "language_info": {
            "mimetype": "text/x-python", 
            "nbconvert_exporter": "python", 
            "version": "3.6.8", 
            "name": "python", 
            "file_extension": ".py", 
            "pygments_lexer": "ipython3", 
            "codemirror_mode": {
                "version": 3, 
                "name": "ipython"
            }
        }
    }, 
    "nbformat": 4
}