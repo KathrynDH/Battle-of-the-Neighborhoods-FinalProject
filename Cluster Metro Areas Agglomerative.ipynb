{
    "nbformat_minor": 1, 
    "cells": [
        {
            "source": "# Part 4 V2- Cluster Metro Areas\nIn this notebook, I will use Agglomerative\u200b clustering to cluster the location data.  \n", 
            "cell_type": "markdown", 
            "metadata": {
                "collapsed": true
            }
        }, 
        {
            "execution_count": 1, 
            "cell_type": "code", 
            "metadata": {}, 
            "outputs": [], 
            "source": "#import libraries\nimport requests\nimport numpy as np\nimport pandas as pd\nimport ibm_boto3\nimport io\nfrom sklearn.cluster import AgglomerativeClustering\nfrom datetime import datetime"
        }, 
        {
            "execution_count": 2, 
            "cell_type": "code", 
            "metadata": {}, 
            "outputs": [], 
            "source": "# import plotting libraries\n%matplotlib inline \nimport matplotlib as mpl\nimport matplotlib.pyplot as plt"
        }, 
        {
            "execution_count": 3, 
            "cell_type": "code", 
            "metadata": {}, 
            "outputs": [], 
            "source": "# The code was removed by Watson Studio for sharing."
        }, 
        {
            "execution_count": 4, 
            "cell_type": "code", 
            "metadata": {}, 
            "outputs": [
                {
                    "execution_count": 4, 
                    "metadata": {}, 
                    "data": {
                        "text/html": "<div>\n<style scoped>\n    .dataframe tbody tr th:only-of-type {\n        vertical-align: middle;\n    }\n\n    .dataframe tbody tr th {\n        vertical-align: top;\n    }\n\n    .dataframe thead th {\n        text-align: right;\n    }\n</style>\n<table border=\"1\" class=\"dataframe\">\n  <thead>\n    <tr style=\"text-align: right;\">\n      <th></th>\n      <th>Metropolitan</th>\n      <th>Country</th>\n      <th>Continent</th>\n      <th>Latitude</th>\n      <th>Longitude</th>\n      <th>Category 1</th>\n      <th>Category 2</th>\n      <th>Category 3</th>\n      <th>Category 4</th>\n      <th>Category 5</th>\n      <th>Category 6</th>\n      <th>Category 7</th>\n      <th>Category 8</th>\n      <th>Category 9</th>\n      <th>Category 10</th>\n    </tr>\n  </thead>\n  <tbody>\n    <tr>\n      <th>0</th>\n      <td>Tokyo</td>\n      <td>Japan</td>\n      <td>Asia</td>\n      <td>35.682839</td>\n      <td>139.759455</td>\n      <td>Caf\u00e9</td>\n      <td>Japanese Restaurant</td>\n      <td>Italian Restaurant</td>\n      <td>Sushi Restaurant</td>\n      <td>Lounge</td>\n      <td>Garden</td>\n      <td>French Restaurant</td>\n      <td>Dessert Shop</td>\n      <td>Thai Restaurant</td>\n      <td>Steakhouse</td>\n    </tr>\n    <tr>\n      <th>1</th>\n      <td>Delhi</td>\n      <td>India</td>\n      <td>Asia</td>\n      <td>28.651718</td>\n      <td>77.221939</td>\n      <td>Indian Restaurant</td>\n      <td>Bar</td>\n      <td>Caf\u00e9</td>\n      <td>Flea Market</td>\n      <td>Lounge</td>\n      <td>Asian Restaurant</td>\n      <td>Ice Cream Shop</td>\n      <td>South Indian Restaurant</td>\n      <td>Portuguese Restaurant</td>\n      <td>Plaza</td>\n    </tr>\n    <tr>\n      <th>2</th>\n      <td>Mexico City</td>\n      <td>Mexico</td>\n      <td>North America</td>\n      <td>19.432601</td>\n      <td>-99.133342</td>\n      <td>Mexican Restaurant</td>\n      <td>Art Museum</td>\n      <td>Museum</td>\n      <td>Arts &amp; Crafts Store</td>\n      <td>Bar</td>\n      <td>Ice Cream Shop</td>\n      <td>Boutique</td>\n      <td>Bakery</td>\n      <td>Restaurant</td>\n      <td>Caf\u00e9</td>\n    </tr>\n    <tr>\n      <th>3</th>\n      <td>S\u00e3o Paulo</td>\n      <td>Brazil</td>\n      <td>South America</td>\n      <td>-23.550651</td>\n      <td>-46.633382</td>\n      <td>Brazilian Restaurant</td>\n      <td>Japanese Restaurant</td>\n      <td>Caf\u00e9</td>\n      <td>Bakery</td>\n      <td>Snack Place</td>\n      <td>Bookstore</td>\n      <td>Cosmetics Shop</td>\n      <td>Asian Restaurant</td>\n      <td>Art Gallery</td>\n      <td>Chinese Restaurant</td>\n    </tr>\n    <tr>\n      <th>4</th>\n      <td>Lagos</td>\n      <td>Nigeria</td>\n      <td>Africa</td>\n      <td>6.455057</td>\n      <td>3.394179</td>\n      <td>Lounge</td>\n      <td>African Restaurant</td>\n      <td>Bar</td>\n      <td>Caf\u00e9</td>\n      <td>Shopping Mall</td>\n      <td>Pizza Place</td>\n      <td>Hotel</td>\n      <td>Art Gallery</td>\n      <td>Italian Restaurant</td>\n      <td>Market</td>\n    </tr>\n  </tbody>\n</table>\n</div>", 
                        "text/plain": "  Metropolitan  Country      Continent   Latitude   Longitude  \\\n0        Tokyo    Japan           Asia  35.682839  139.759455   \n1        Delhi    India           Asia  28.651718   77.221939   \n2  Mexico City   Mexico  North America  19.432601  -99.133342   \n3    S\u00e3o Paulo   Brazil  South America -23.550651  -46.633382   \n4        Lagos  Nigeria         Africa   6.455057    3.394179   \n\n             Category 1           Category 2          Category 3  \\\n0                  Caf\u00e9  Japanese Restaurant  Italian Restaurant   \n1     Indian Restaurant                  Bar                Caf\u00e9   \n2    Mexican Restaurant           Art Museum              Museum   \n3  Brazilian Restaurant  Japanese Restaurant                Caf\u00e9   \n4                Lounge   African Restaurant                 Bar   \n\n            Category 4     Category 5        Category 6         Category 7  \\\n0     Sushi Restaurant         Lounge            Garden  French Restaurant   \n1          Flea Market         Lounge  Asian Restaurant     Ice Cream Shop   \n2  Arts & Crafts Store            Bar    Ice Cream Shop           Boutique   \n3               Bakery    Snack Place         Bookstore     Cosmetics Shop   \n4                 Caf\u00e9  Shopping Mall       Pizza Place              Hotel   \n\n                Category 8             Category 9         Category 10  \n0             Dessert Shop        Thai Restaurant          Steakhouse  \n1  South Indian Restaurant  Portuguese Restaurant               Plaza  \n2                   Bakery             Restaurant                Caf\u00e9  \n3         Asian Restaurant            Art Gallery  Chinese Restaurant  \n4              Art Gallery     Italian Restaurant              Market  "
                    }, 
                    "output_type": "execute_result"
                }
            ], 
            "source": "#Import the first venue dataframe\nobj = resource.Object(bucket_name=bucket, key='VenueData.json').get()\ndf = pd.read_json(io.BytesIO(obj['Body'].read()))\ndf.sort_index(inplace=True)\ndf.head()"
        }, 
        {
            "execution_count": 5, 
            "cell_type": "code", 
            "metadata": {
                "scrolled": false
            }, 
            "outputs": [
                {
                    "execution_count": 5, 
                    "metadata": {}, 
                    "data": {
                        "text/html": "<div>\n<style scoped>\n    .dataframe tbody tr th:only-of-type {\n        vertical-align: middle;\n    }\n\n    .dataframe tbody tr th {\n        vertical-align: top;\n    }\n\n    .dataframe thead th {\n        text-align: right;\n    }\n</style>\n<table border=\"1\" class=\"dataframe\">\n  <thead>\n    <tr style=\"text-align: right;\">\n      <th></th>\n      <th>Metro</th>\n      <th>ATM</th>\n      <th>Acai House</th>\n      <th>Accessories Store</th>\n      <th>Afghan Restaurant</th>\n      <th>African Restaurant</th>\n      <th>Alsatian Restaurant</th>\n      <th>American Restaurant</th>\n      <th>Amphitheater</th>\n      <th>Antique Shop</th>\n      <th>...</th>\n      <th>Whisky Bar</th>\n      <th>Wine Bar</th>\n      <th>Wine Shop</th>\n      <th>Wings Joint</th>\n      <th>Women's Store</th>\n      <th>Xinjiang Restaurant</th>\n      <th>Yoga Studio</th>\n      <th>Yoshoku Restaurant</th>\n      <th>Zhejiang Restaurant</th>\n      <th>Zoo Exhibit</th>\n    </tr>\n  </thead>\n  <tbody>\n    <tr>\n      <th>0</th>\n      <td>Ahmedabad</td>\n      <td>0.0</td>\n      <td>0.0</td>\n      <td>0.0</td>\n      <td>0.0</td>\n      <td>0.0</td>\n      <td>0.0</td>\n      <td>0.000000</td>\n      <td>0.0</td>\n      <td>0.0</td>\n      <td>...</td>\n      <td>0.0</td>\n      <td>0.0</td>\n      <td>0.00</td>\n      <td>0.0</td>\n      <td>0.0</td>\n      <td>0.0</td>\n      <td>0.00</td>\n      <td>0.0</td>\n      <td>0.0</td>\n      <td>0.0</td>\n    </tr>\n    <tr>\n      <th>1</th>\n      <td>Alexandria</td>\n      <td>0.0</td>\n      <td>0.0</td>\n      <td>0.0</td>\n      <td>0.0</td>\n      <td>0.0</td>\n      <td>0.0</td>\n      <td>0.010309</td>\n      <td>0.0</td>\n      <td>0.0</td>\n      <td>...</td>\n      <td>0.0</td>\n      <td>0.0</td>\n      <td>0.00</td>\n      <td>0.0</td>\n      <td>0.0</td>\n      <td>0.0</td>\n      <td>0.00</td>\n      <td>0.0</td>\n      <td>0.0</td>\n      <td>0.0</td>\n    </tr>\n    <tr>\n      <th>10</th>\n      <td>Berlin/Brandenburg</td>\n      <td>0.0</td>\n      <td>0.0</td>\n      <td>0.0</td>\n      <td>0.0</td>\n      <td>0.0</td>\n      <td>0.0</td>\n      <td>0.000000</td>\n      <td>0.0</td>\n      <td>0.0</td>\n      <td>...</td>\n      <td>0.0</td>\n      <td>0.0</td>\n      <td>0.00</td>\n      <td>0.0</td>\n      <td>0.0</td>\n      <td>0.0</td>\n      <td>0.00</td>\n      <td>0.0</td>\n      <td>0.0</td>\n      <td>0.0</td>\n    </tr>\n    <tr>\n      <th>11</th>\n      <td>Bogot\u00e1</td>\n      <td>0.0</td>\n      <td>0.0</td>\n      <td>0.0</td>\n      <td>0.0</td>\n      <td>0.0</td>\n      <td>0.0</td>\n      <td>0.000000</td>\n      <td>0.0</td>\n      <td>0.0</td>\n      <td>...</td>\n      <td>0.0</td>\n      <td>0.0</td>\n      <td>0.00</td>\n      <td>0.0</td>\n      <td>0.0</td>\n      <td>0.0</td>\n      <td>0.00</td>\n      <td>0.0</td>\n      <td>0.0</td>\n      <td>0.0</td>\n    </tr>\n    <tr>\n      <th>12</th>\n      <td>Boston</td>\n      <td>0.0</td>\n      <td>0.0</td>\n      <td>0.0</td>\n      <td>0.0</td>\n      <td>0.0</td>\n      <td>0.0</td>\n      <td>0.030000</td>\n      <td>0.0</td>\n      <td>0.0</td>\n      <td>...</td>\n      <td>0.0</td>\n      <td>0.0</td>\n      <td>0.01</td>\n      <td>0.0</td>\n      <td>0.0</td>\n      <td>0.0</td>\n      <td>0.02</td>\n      <td>0.0</td>\n      <td>0.0</td>\n      <td>0.0</td>\n    </tr>\n  </tbody>\n</table>\n<p>5 rows \u00d7 393 columns</p>\n</div>", 
                        "text/plain": "                 Metro  ATM  Acai House  Accessories Store  Afghan Restaurant  \\\n0            Ahmedabad  0.0         0.0                0.0                0.0   \n1           Alexandria  0.0         0.0                0.0                0.0   \n10  Berlin/Brandenburg  0.0         0.0                0.0                0.0   \n11              Bogot\u00e1  0.0         0.0                0.0                0.0   \n12              Boston  0.0         0.0                0.0                0.0   \n\n    African Restaurant  Alsatian Restaurant  American Restaurant  \\\n0                  0.0                  0.0             0.000000   \n1                  0.0                  0.0             0.010309   \n10                 0.0                  0.0             0.000000   \n11                 0.0                  0.0             0.000000   \n12                 0.0                  0.0             0.030000   \n\n    Amphitheater  Antique Shop  ...  Whisky Bar  Wine Bar  Wine Shop  \\\n0            0.0           0.0  ...         0.0       0.0       0.00   \n1            0.0           0.0  ...         0.0       0.0       0.00   \n10           0.0           0.0  ...         0.0       0.0       0.00   \n11           0.0           0.0  ...         0.0       0.0       0.00   \n12           0.0           0.0  ...         0.0       0.0       0.01   \n\n    Wings Joint  Women's Store  Xinjiang Restaurant  Yoga Studio  \\\n0           0.0            0.0                  0.0         0.00   \n1           0.0            0.0                  0.0         0.00   \n10          0.0            0.0                  0.0         0.00   \n11          0.0            0.0                  0.0         0.00   \n12          0.0            0.0                  0.0         0.02   \n\n    Yoshoku Restaurant  Zhejiang Restaurant  Zoo Exhibit  \n0                  0.0                  0.0          0.0  \n1                  0.0                  0.0          0.0  \n10                 0.0                  0.0          0.0  \n11                 0.0                  0.0          0.0  \n12                 0.0                  0.0          0.0  \n\n[5 rows x 393 columns]"
                    }, 
                    "output_type": "execute_result"
                }
            ], 
            "source": "#Import the venue dataframe used for clustering\nobj = resource.Object(bucket_name=bucket, key='VenueOneHot.json').get()\ndf_onehot = pd.read_json(io.BytesIO(obj['Body'].read()))\ndf_onehot.head()"
        }, 
        {
            "execution_count": 23, 
            "cell_type": "code", 
            "metadata": {}, 
            "outputs": [
                {
                    "output_type": "stream", 
                    "name": "stdout", 
                    "text": "\n i= 5 \n    cat  size\n0    0    69\n2    2    15\n4    4     8\n1    1     7\n3    3     1\n\n i= 6 \n    cat  size\n0    0    67\n2    2    15\n4    4     8\n1    1     7\n5    5     2\n3    3     1\n\n i= 7 \n    cat  size\n5    5    66\n0    0    15\n4    4     8\n1    1     7\n2    2     2\n3    3     1\n6    6     1\n\n i= 8 \n    cat  size\n5    5    66\n3    3    13\n4    4     8\n1    1     7\n0    0     2\n2    2     2\n6    6     1\n7    7     1\n\n i= 9 \n    cat  size\n2    2    66\n3    3    13\n4    4     8\n1    1     7\n0    0     2\n5    5     1\n6    6     1\n7    7     1\n8    8     1\n\n i= 10 \n    cat  size\n0    0    66\n3    3    13\n4    4     8\n1    1     7\n2    2     1\n5    5     1\n6    6     1\n7    7     1\n8    8     1\n9    9     1\n\n i= 11 \n     cat  size\n1     1    62\n3     3    13\n10   10     8\n0     0     7\n4     4     4\n2     2     1\n5     5     1\n6     6     1\n7     7     1\n8     8     1\n9     9     1\n\n i= 12 \n     cat  size\n1     1    62\n3     3    13\n10   10     8\n0     0     6\n4     4     4\n2     2     1\n5     5     1\n6     6     1\n7     7     1\n8     8     1\n9     9     1\n11   11     1\n\n i= 13 \n     cat  size\n0     0    62\n1     1    13\n10   10     8\n3     3     4\n4     4     4\n2     2     2\n5     5     1\n6     6     1\n7     7     1\n8     8     1\n9     9     1\n11   11     1\n12   12     1\n\n i= 14 \n     cat  size\n2     2    33\n1     1    29\n0     0    13\n10   10     8\n3     3     4\n4     4     4\n6     6     2\n5     5     1\n7     7     1\n8     8     1\n9     9     1\n11   11     1\n12   12     1\n13   13     1\n\n i= 15 \n     cat  size\n2     2    33\n0     0    29\n1     1    12\n10   10     8\n3     3     4\n4     4     4\n6     6     2\n5     5     1\n7     7     1\n8     8     1\n9     9     1\n11   11     1\n12   12     1\n13   13     1\n14   14     1\n\n i= 16 \n     cat  size\n2     2    33\n1     1    25\n0     0    12\n10   10     8\n3     3     4\n4     4     4\n7     7     4\n6     6     2\n5     5     1\n8     8     1\n9     9     1\n11   11     1\n12   12     1\n13   13     1\n14   14     1\n15   15     1\n\n i= 17 \n     cat  size\n2     2    33\n1     1    25\n0     0    11\n10   10     8\n3     3     4\n4     4     4\n7     7     4\n6     6     2\n12   12     1\n15   15     1\n14   14     1\n13   13     1\n8     8     1\n11   11     1\n9     9     1\n5     5     1\n16   16     1\n\n i= 18 \n     cat  size\n2     2    33\n0     0    25\n7     7    10\n10   10     8\n3     3     4\n4     4     4\n1     1     4\n6     6     2\n13   13     1\n16   16     1\n15   15     1\n14   14     1\n9     9     1\n12   12     1\n11   11     1\n8     8     1\n5     5     1\n17   17     1\n\n i= 19 \n     cat  size\n2     2    33\n0     0    24\n7     7    10\n10   10     8\n3     3     4\n4     4     4\n1     1     4\n6     6     2\n13   13     1\n17   17     1\n16   16     1\n15   15     1\n14   14     1\n9     9     1\n12   12     1\n11   11     1\n8     8     1\n5     5     1\n18   18     1\n\n i= 20 \n     cat  size\n2     2    33\n4     4    17\n7     7    10\n10   10     8\n3     3     7\n1     1     4\n9     9     4\n0     0     4\n6     6     2\n8     8     1\n5     5     1\n11   11     1\n12   12     1\n13   13     1\n14   14     1\n15   15     1\n16   16     1\n17   17     1\n18   18     1\n19   19     1\n\n i= 21 \n     cat  size\n2     2    33\n4     4    17\n3     3    10\n10   10     8\n1     1     7\n9     9     4\n0     0     4\n7     7     3\n6     6     2\n8     8     1\n5     5     1\n11   11     1\n12   12     1\n13   13     1\n14   14     1\n15   15     1\n16   16     1\n17   17     1\n18   18     1\n19   19     1\n20   20     1\n\n i= 22 \n     cat  size\n2     2    33\n1     1    17\n3     3    10\n21   21     8\n0     0     7\n9     9     4\n7     7     3\n10   10     2\n4     4     2\n6     6     2\n5     5     1\n16   16     1\n20   20     1\n19   19     1\n18   18     1\n17   17     1\n13   13     1\n15   15     1\n14   14     1\n12   12     1\n8     8     1\n11   11     1\n\n i= 23 \n     cat  size\n0     0    33\n1     1    17\n3     3    10\n21   21     8\n6     6     6\n9     9     4\n7     7     3\n2     2     2\n4     4     2\n10   10     2\n16   16     1\n20   20     1\n19   19     1\n18   18     1\n17   17     1\n11   11     1\n15   15     1\n14   14     1\n13   13     1\n12   12     1\n8     8     1\n5     5     1\n22   22     1\n\n i= 24 \n     cat  size\n2     2    22\n0     0    17\n4     4    11\n3     3    10\n21   21     8\n6     6     6\n9     9     4\n7     7     3\n5     5     2\n10   10     2\n1     1     2\n17   17     1\n22   22     1\n20   20     1\n19   19     1\n18   18     1\n12   12     1\n16   16     1\n15   15     1\n14   14     1\n13   13     1\n11   11     1\n8     8     1\n23   23     1\n\n i= 25 \n     cat  size\n2     2    22\n0     0    15\n4     4    11\n3     3    10\n21   21     8\n6     6     6\n9     9     4\n7     7     3\n5     5     2\n10   10     2\n11   11     2\n1     1     2\n20   20     1\n23   23     1\n22   22     1\n18   18     1\n19   19     1\n12   12     1\n17   17     1\n16   16     1\n15   15     1\n14   14     1\n13   13     1\n8     8     1\n24   24     1\n"
                }
            ], 
            "source": "l = len(df_onehot.index)\nfor i in range(5,26):\n    model = AgglomerativeClustering(n_clusters=i).fit(df_onehot.drop('Metro',axis=1))\n    aLabels = model.labels_\n    v = pd.DataFrame({'cat':aLabels,'size':range(l)})\n    print('\\n i=', i,'\\n',v.groupby('cat', as_index=False).count().sort_values('size', ascending=False))"
        }, 
        {
            "source": "n=14 seems to be the most interesting balance between number of clusters and cluster size", 
            "cell_type": "markdown", 
            "metadata": {}
        }, 
        {
            "execution_count": 24, 
            "cell_type": "code", 
            "metadata": {
                "scrolled": true
            }, 
            "outputs": [
                {
                    "execution_count": 24, 
                    "metadata": {}, 
                    "data": {
                        "text/html": "<div>\n<style scoped>\n    .dataframe tbody tr th:only-of-type {\n        vertical-align: middle;\n    }\n\n    .dataframe tbody tr th {\n        vertical-align: top;\n    }\n\n    .dataframe thead th {\n        text-align: right;\n    }\n</style>\n<table border=\"1\" class=\"dataframe\">\n  <thead>\n    <tr style=\"text-align: right;\">\n      <th></th>\n      <th>Cluster Labels</th>\n      <th>Metro</th>\n      <th>ATM</th>\n      <th>Acai House</th>\n      <th>Accessories Store</th>\n      <th>Afghan Restaurant</th>\n      <th>African Restaurant</th>\n      <th>Alsatian Restaurant</th>\n      <th>American Restaurant</th>\n      <th>Amphitheater</th>\n      <th>...</th>\n      <th>Whisky Bar</th>\n      <th>Wine Bar</th>\n      <th>Wine Shop</th>\n      <th>Wings Joint</th>\n      <th>Women's Store</th>\n      <th>Xinjiang Restaurant</th>\n      <th>Yoga Studio</th>\n      <th>Yoshoku Restaurant</th>\n      <th>Zhejiang Restaurant</th>\n      <th>Zoo Exhibit</th>\n    </tr>\n  </thead>\n  <tbody>\n    <tr>\n      <th>0</th>\n      <td>10</td>\n      <td>Ahmedabad</td>\n      <td>0.0</td>\n      <td>0.0</td>\n      <td>0.0</td>\n      <td>0.0</td>\n      <td>0.0</td>\n      <td>0.0</td>\n      <td>0.000000</td>\n      <td>0.0</td>\n      <td>...</td>\n      <td>0.0</td>\n      <td>0.0</td>\n      <td>0.00</td>\n      <td>0.0</td>\n      <td>0.0</td>\n      <td>0.0</td>\n      <td>0.00</td>\n      <td>0.0</td>\n      <td>0.0</td>\n      <td>0.0</td>\n    </tr>\n    <tr>\n      <th>1</th>\n      <td>4</td>\n      <td>Alexandria</td>\n      <td>0.0</td>\n      <td>0.0</td>\n      <td>0.0</td>\n      <td>0.0</td>\n      <td>0.0</td>\n      <td>0.0</td>\n      <td>0.010309</td>\n      <td>0.0</td>\n      <td>...</td>\n      <td>0.0</td>\n      <td>0.0</td>\n      <td>0.00</td>\n      <td>0.0</td>\n      <td>0.0</td>\n      <td>0.0</td>\n      <td>0.00</td>\n      <td>0.0</td>\n      <td>0.0</td>\n      <td>0.0</td>\n    </tr>\n    <tr>\n      <th>10</th>\n      <td>1</td>\n      <td>Berlin/Brandenburg</td>\n      <td>0.0</td>\n      <td>0.0</td>\n      <td>0.0</td>\n      <td>0.0</td>\n      <td>0.0</td>\n      <td>0.0</td>\n      <td>0.000000</td>\n      <td>0.0</td>\n      <td>...</td>\n      <td>0.0</td>\n      <td>0.0</td>\n      <td>0.00</td>\n      <td>0.0</td>\n      <td>0.0</td>\n      <td>0.0</td>\n      <td>0.00</td>\n      <td>0.0</td>\n      <td>0.0</td>\n      <td>0.0</td>\n    </tr>\n    <tr>\n      <th>11</th>\n      <td>2</td>\n      <td>Bogot\u00e1</td>\n      <td>0.0</td>\n      <td>0.0</td>\n      <td>0.0</td>\n      <td>0.0</td>\n      <td>0.0</td>\n      <td>0.0</td>\n      <td>0.000000</td>\n      <td>0.0</td>\n      <td>...</td>\n      <td>0.0</td>\n      <td>0.0</td>\n      <td>0.00</td>\n      <td>0.0</td>\n      <td>0.0</td>\n      <td>0.0</td>\n      <td>0.00</td>\n      <td>0.0</td>\n      <td>0.0</td>\n      <td>0.0</td>\n    </tr>\n    <tr>\n      <th>12</th>\n      <td>2</td>\n      <td>Boston</td>\n      <td>0.0</td>\n      <td>0.0</td>\n      <td>0.0</td>\n      <td>0.0</td>\n      <td>0.0</td>\n      <td>0.0</td>\n      <td>0.030000</td>\n      <td>0.0</td>\n      <td>...</td>\n      <td>0.0</td>\n      <td>0.0</td>\n      <td>0.01</td>\n      <td>0.0</td>\n      <td>0.0</td>\n      <td>0.0</td>\n      <td>0.02</td>\n      <td>0.0</td>\n      <td>0.0</td>\n      <td>0.0</td>\n    </tr>\n  </tbody>\n</table>\n<p>5 rows \u00d7 394 columns</p>\n</div>", 
                        "text/plain": "    Cluster Labels               Metro  ATM  Acai House  Accessories Store  \\\n0               10           Ahmedabad  0.0         0.0                0.0   \n1                4          Alexandria  0.0         0.0                0.0   \n10               1  Berlin/Brandenburg  0.0         0.0                0.0   \n11               2              Bogot\u00e1  0.0         0.0                0.0   \n12               2              Boston  0.0         0.0                0.0   \n\n    Afghan Restaurant  African Restaurant  Alsatian Restaurant  \\\n0                 0.0                 0.0                  0.0   \n1                 0.0                 0.0                  0.0   \n10                0.0                 0.0                  0.0   \n11                0.0                 0.0                  0.0   \n12                0.0                 0.0                  0.0   \n\n    American Restaurant  Amphitheater  ...  Whisky Bar  Wine Bar  Wine Shop  \\\n0              0.000000           0.0  ...         0.0       0.0       0.00   \n1              0.010309           0.0  ...         0.0       0.0       0.00   \n10             0.000000           0.0  ...         0.0       0.0       0.00   \n11             0.000000           0.0  ...         0.0       0.0       0.00   \n12             0.030000           0.0  ...         0.0       0.0       0.01   \n\n    Wings Joint  Women's Store  Xinjiang Restaurant  Yoga Studio  \\\n0           0.0            0.0                  0.0         0.00   \n1           0.0            0.0                  0.0         0.00   \n10          0.0            0.0                  0.0         0.00   \n11          0.0            0.0                  0.0         0.00   \n12          0.0            0.0                  0.0         0.02   \n\n    Yoshoku Restaurant  Zhejiang Restaurant  Zoo Exhibit  \n0                  0.0                  0.0          0.0  \n1                  0.0                  0.0          0.0  \n10                 0.0                  0.0          0.0  \n11                 0.0                  0.0          0.0  \n12                 0.0                  0.0          0.0  \n\n[5 rows x 394 columns]"
                    }, 
                    "output_type": "execute_result"
                }
            ], 
            "source": "#Add cluster labels\nn = 14\nmodel = AgglomerativeClustering(n_clusters=n).fit(df_onehot.drop('Metro',axis=1))\naLabels = model.labels_\ndf_onehot.insert(0, 'Cluster Labels', aLabels)\ndf_onehot.head()"
        }, 
        {
            "execution_count": 25, 
            "cell_type": "code", 
            "metadata": {
                "scrolled": false
            }, 
            "outputs": [
                {
                    "execution_count": 25, 
                    "metadata": {}, 
                    "data": {
                        "text/html": "<div>\n<style scoped>\n    .dataframe tbody tr th:only-of-type {\n        vertical-align: middle;\n    }\n\n    .dataframe tbody tr th {\n        vertical-align: top;\n    }\n\n    .dataframe thead th {\n        text-align: right;\n    }\n</style>\n<table border=\"1\" class=\"dataframe\">\n  <thead>\n    <tr style=\"text-align: right;\">\n      <th></th>\n      <th>Metropolitan</th>\n      <th>Country</th>\n      <th>Continent</th>\n      <th>Latitude</th>\n      <th>Longitude</th>\n      <th>Category 1</th>\n      <th>Category 2</th>\n      <th>Category 3</th>\n      <th>Category 4</th>\n      <th>Category 5</th>\n      <th>Category 6</th>\n      <th>Category 7</th>\n      <th>Category 8</th>\n      <th>Category 9</th>\n      <th>Category 10</th>\n      <th>Cluster Labels</th>\n    </tr>\n  </thead>\n  <tbody>\n    <tr>\n      <th>0</th>\n      <td>Tokyo</td>\n      <td>Japan</td>\n      <td>Asia</td>\n      <td>35.682839</td>\n      <td>139.759455</td>\n      <td>Caf\u00e9</td>\n      <td>Japanese Restaurant</td>\n      <td>Italian Restaurant</td>\n      <td>Sushi Restaurant</td>\n      <td>Lounge</td>\n      <td>Garden</td>\n      <td>French Restaurant</td>\n      <td>Dessert Shop</td>\n      <td>Thai Restaurant</td>\n      <td>Steakhouse</td>\n      <td>1</td>\n    </tr>\n    <tr>\n      <th>1</th>\n      <td>Delhi</td>\n      <td>India</td>\n      <td>Asia</td>\n      <td>28.651718</td>\n      <td>77.221939</td>\n      <td>Indian Restaurant</td>\n      <td>Bar</td>\n      <td>Caf\u00e9</td>\n      <td>Flea Market</td>\n      <td>Lounge</td>\n      <td>Asian Restaurant</td>\n      <td>Ice Cream Shop</td>\n      <td>South Indian Restaurant</td>\n      <td>Portuguese Restaurant</td>\n      <td>Plaza</td>\n      <td>10</td>\n    </tr>\n    <tr>\n      <th>2</th>\n      <td>Mexico City</td>\n      <td>Mexico</td>\n      <td>North America</td>\n      <td>19.432601</td>\n      <td>-99.133342</td>\n      <td>Mexican Restaurant</td>\n      <td>Art Museum</td>\n      <td>Museum</td>\n      <td>Arts &amp; Crafts Store</td>\n      <td>Bar</td>\n      <td>Ice Cream Shop</td>\n      <td>Boutique</td>\n      <td>Bakery</td>\n      <td>Restaurant</td>\n      <td>Caf\u00e9</td>\n      <td>2</td>\n    </tr>\n    <tr>\n      <th>3</th>\n      <td>S\u00e3o Paulo</td>\n      <td>Brazil</td>\n      <td>South America</td>\n      <td>-23.550651</td>\n      <td>-46.633382</td>\n      <td>Brazilian Restaurant</td>\n      <td>Japanese Restaurant</td>\n      <td>Caf\u00e9</td>\n      <td>Bakery</td>\n      <td>Snack Place</td>\n      <td>Bookstore</td>\n      <td>Cosmetics Shop</td>\n      <td>Asian Restaurant</td>\n      <td>Art Gallery</td>\n      <td>Chinese Restaurant</td>\n      <td>1</td>\n    </tr>\n    <tr>\n      <th>4</th>\n      <td>Lagos</td>\n      <td>Nigeria</td>\n      <td>Africa</td>\n      <td>6.455057</td>\n      <td>3.394179</td>\n      <td>Lounge</td>\n      <td>African Restaurant</td>\n      <td>Bar</td>\n      <td>Caf\u00e9</td>\n      <td>Shopping Mall</td>\n      <td>Pizza Place</td>\n      <td>Hotel</td>\n      <td>Art Gallery</td>\n      <td>Italian Restaurant</td>\n      <td>Market</td>\n      <td>1</td>\n    </tr>\n  </tbody>\n</table>\n</div>", 
                        "text/plain": "  Metropolitan  Country      Continent   Latitude   Longitude  \\\n0        Tokyo    Japan           Asia  35.682839  139.759455   \n1        Delhi    India           Asia  28.651718   77.221939   \n2  Mexico City   Mexico  North America  19.432601  -99.133342   \n3    S\u00e3o Paulo   Brazil  South America -23.550651  -46.633382   \n4        Lagos  Nigeria         Africa   6.455057    3.394179   \n\n             Category 1           Category 2          Category 3  \\\n0                  Caf\u00e9  Japanese Restaurant  Italian Restaurant   \n1     Indian Restaurant                  Bar                Caf\u00e9   \n2    Mexican Restaurant           Art Museum              Museum   \n3  Brazilian Restaurant  Japanese Restaurant                Caf\u00e9   \n4                Lounge   African Restaurant                 Bar   \n\n            Category 4     Category 5        Category 6         Category 7  \\\n0     Sushi Restaurant         Lounge            Garden  French Restaurant   \n1          Flea Market         Lounge  Asian Restaurant     Ice Cream Shop   \n2  Arts & Crafts Store            Bar    Ice Cream Shop           Boutique   \n3               Bakery    Snack Place         Bookstore     Cosmetics Shop   \n4                 Caf\u00e9  Shopping Mall       Pizza Place              Hotel   \n\n                Category 8             Category 9         Category 10  \\\n0             Dessert Shop        Thai Restaurant          Steakhouse   \n1  South Indian Restaurant  Portuguese Restaurant               Plaza   \n2                   Bakery             Restaurant                Caf\u00e9   \n3         Asian Restaurant            Art Gallery  Chinese Restaurant   \n4              Art Gallery     Italian Restaurant              Market   \n\n   Cluster Labels  \n0               1  \n1              10  \n2               2  \n3               1  \n4               1  "
                    }, 
                    "output_type": "execute_result"
                }
            ], 
            "source": "#Add cluster labels\ndftemp = df_onehot.iloc[:,[0,1]]\ndf_New = df.join(dftemp.set_index('Metro'), on='Metropolitan')\ndf_New.head()"
        }, 
        {
            "execution_count": 26, 
            "cell_type": "code", 
            "metadata": {}, 
            "outputs": [
                {
                    "execution_count": 26, 
                    "metadata": {}, 
                    "data": {
                        "text/html": "<div>\n<style scoped>\n    .dataframe tbody tr th:only-of-type {\n        vertical-align: middle;\n    }\n\n    .dataframe tbody tr th {\n        vertical-align: top;\n    }\n\n    .dataframe thead th {\n        text-align: right;\n    }\n</style>\n<table border=\"1\" class=\"dataframe\">\n  <thead>\n    <tr style=\"text-align: right;\">\n      <th></th>\n      <th>Metropolitan</th>\n      <th>Country</th>\n      <th>Cluster Labels</th>\n    </tr>\n  </thead>\n  <tbody>\n    <tr>\n      <th>0</th>\n      <td>Tokyo</td>\n      <td>Japan</td>\n      <td>1</td>\n    </tr>\n    <tr>\n      <th>1</th>\n      <td>Delhi</td>\n      <td>India</td>\n      <td>10</td>\n    </tr>\n    <tr>\n      <th>2</th>\n      <td>Mexico City</td>\n      <td>Mexico</td>\n      <td>2</td>\n    </tr>\n    <tr>\n      <th>3</th>\n      <td>S\u00e3o Paulo</td>\n      <td>Brazil</td>\n      <td>1</td>\n    </tr>\n    <tr>\n      <th>4</th>\n      <td>Lagos</td>\n      <td>Nigeria</td>\n      <td>1</td>\n    </tr>\n    <tr>\n      <th>5</th>\n      <td>Mumbai</td>\n      <td>India</td>\n      <td>10</td>\n    </tr>\n    <tr>\n      <th>6</th>\n      <td>Cairo</td>\n      <td>Egypt</td>\n      <td>2</td>\n    </tr>\n    <tr>\n      <th>7</th>\n      <td>Kyoto</td>\n      <td>Japan</td>\n      <td>1</td>\n    </tr>\n    <tr>\n      <th>8</th>\n      <td>Wuhan</td>\n      <td>China</td>\n      <td>3</td>\n    </tr>\n    <tr>\n      <th>9</th>\n      <td>Los Angeles</td>\n      <td>United States</td>\n      <td>2</td>\n    </tr>\n    <tr>\n      <th>10</th>\n      <td>Chengdu</td>\n      <td>China</td>\n      <td>0</td>\n    </tr>\n    <tr>\n      <th>11</th>\n      <td>Dhaka</td>\n      <td>Bangladesh</td>\n      <td>1</td>\n    </tr>\n    <tr>\n      <th>12</th>\n      <td>Shanghai</td>\n      <td>China</td>\n      <td>0</td>\n    </tr>\n    <tr>\n      <th>13</th>\n      <td>Chongqing</td>\n      <td>China</td>\n      <td>0</td>\n    </tr>\n    <tr>\n      <th>14</th>\n      <td>Karachi</td>\n      <td>Pakistan</td>\n      <td>1</td>\n    </tr>\n  </tbody>\n</table>\n</div>", 
                        "text/plain": "   Metropolitan        Country  Cluster Labels\n0         Tokyo          Japan               1\n1         Delhi          India              10\n2   Mexico City         Mexico               2\n3     S\u00e3o Paulo         Brazil               1\n4         Lagos        Nigeria               1\n5        Mumbai          India              10\n6         Cairo          Egypt               2\n7         Kyoto          Japan               1\n8         Wuhan          China               3\n9   Los Angeles  United States               2\n10      Chengdu          China               0\n11        Dhaka     Bangladesh               1\n12     Shanghai          China               0\n13    Chongqing          China               0\n14      Karachi       Pakistan               1"
                    }, 
                    "output_type": "execute_result"
                }
            ], 
            "source": "df_New.loc[:,['Metropolitan','Country','Cluster Labels']].head(15)"
        }, 
        {
            "execution_count": 27, 
            "cell_type": "code", 
            "metadata": {}, 
            "outputs": [
                {
                    "output_type": "stream", 
                    "name": "stdout", 
                    "text": "Saved\n"
                }
            ], 
            "source": "#Save dataframe to json file\nresource.Bucket(name=bucket).put_object(Key='VenueDataWithAGGClusters.json', Body=df_New.to_json())\nprint('Saved')"
        }, 
        {
            "execution_count": 28, 
            "cell_type": "code", 
            "metadata": {}, 
            "outputs": [
                {
                    "output_type": "stream", 
                    "name": "stdout", 
                    "text": "Saved 20190915_2009\n"
                }
            ], 
            "source": "#make a backup of the file\nt = datetime.now().strftime('%Y%m%d_%H%M')\nresource.Bucket(name=bucket).put_object(Key='VenueDataWithAGGClusters' + t + '.json', Body=df_New.to_json())\nprint('Saved ' + t)"
        }, 
        {
            "execution_count": null, 
            "cell_type": "code", 
            "metadata": {}, 
            "outputs": [], 
            "source": ""
        }
    ], 
    "metadata": {
        "kernelspec": {
            "display_name": "Python 3.6", 
            "name": "python3", 
            "language": "python"
        }, 
        "language_info": {
            "mimetype": "text/x-python", 
            "nbconvert_exporter": "python", 
            "version": "3.6.8", 
            "name": "python", 
            "file_extension": ".py", 
            "pygments_lexer": "ipython3", 
            "codemirror_mode": {
                "version": 3, 
                "name": "ipython"
            }
        }
    }, 
    "nbformat": 4
}